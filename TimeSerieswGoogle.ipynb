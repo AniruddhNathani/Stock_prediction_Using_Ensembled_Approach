{
 "cells": [
  {
   "cell_type": "code",
   "execution_count": 35,
   "metadata": {},
   "outputs": [],
   "source": [
    "import pandas as pd\n",
    "import numpy as np\n",
    "import matplotlib.pyplot as plt\n",
    "import seaborn as sns\n",
    "from sklearn.model_selection import train_test_split\n",
    "from sklearn.metrics import accuracy_score,confusion_matrix,classification_report\n",
    "from sklearn.linear_model import LogisticRegression\n",
    "from sklearn import svm\n",
    "from sklearn.neighbors import KNeighborsClassifier\n",
    "from sklearn.ensemble import RandomForestClassifier\n",
    "from sklearn.ensemble import AdaBoostClassifier\n",
    "from sklearn import preprocessing"
   ]
  },
  {
   "cell_type": "code",
   "execution_count": 36,
   "metadata": {},
   "outputs": [
    {
     "data": {
      "text/html": [
       "<div>\n",
       "<style scoped>\n",
       "    .dataframe tbody tr th:only-of-type {\n",
       "        vertical-align: middle;\n",
       "    }\n",
       "\n",
       "    .dataframe tbody tr th {\n",
       "        vertical-align: top;\n",
       "    }\n",
       "\n",
       "    .dataframe thead th {\n",
       "        text-align: right;\n",
       "    }\n",
       "</style>\n",
       "<table border=\"1\" class=\"dataframe\">\n",
       "  <thead>\n",
       "    <tr style=\"text-align: right;\">\n",
       "      <th></th>\n",
       "      <th>Date</th>\n",
       "      <th>Open</th>\n",
       "      <th>High</th>\n",
       "      <th>Low</th>\n",
       "      <th>Close</th>\n",
       "      <th>Adj_Close</th>\n",
       "      <th>Volume</th>\n",
       "      <th>SlowD</th>\n",
       "      <th>SlowK</th>\n",
       "      <th>WILLR</th>\n",
       "      <th>...</th>\n",
       "      <th>ADX</th>\n",
       "      <th>CCI</th>\n",
       "      <th>Chaikin A/D</th>\n",
       "      <th>OBV</th>\n",
       "      <th>Axis Bank</th>\n",
       "      <th>isPartial</th>\n",
       "      <th>SMA3_GoogleTrends</th>\n",
       "      <th>EMA3_GoogleTrends</th>\n",
       "      <th>SMA5_GoogleTrends</th>\n",
       "      <th>EMA5_GoogleTrends</th>\n",
       "    </tr>\n",
       "  </thead>\n",
       "  <tbody>\n",
       "    <tr>\n",
       "      <th>0</th>\n",
       "      <td>2007-03-08</td>\n",
       "      <td>84.73</td>\n",
       "      <td>90.00</td>\n",
       "      <td>82.41</td>\n",
       "      <td>87.22</td>\n",
       "      <td>53.0452</td>\n",
       "      <td>4318735</td>\n",
       "      <td>31.1875</td>\n",
       "      <td>28.0967</td>\n",
       "      <td>-69.6843</td>\n",
       "      <td>...</td>\n",
       "      <td>43.0987</td>\n",
       "      <td>-85.9803</td>\n",
       "      <td>-8.869564e+07</td>\n",
       "      <td>387207475.0</td>\n",
       "      <td>0.0</td>\n",
       "      <td>False</td>\n",
       "      <td>0.0</td>\n",
       "      <td>3.0</td>\n",
       "      <td>0.0</td>\n",
       "      <td>5.0</td>\n",
       "    </tr>\n",
       "    <tr>\n",
       "      <th>1</th>\n",
       "      <td>2007-03-09</td>\n",
       "      <td>87.98</td>\n",
       "      <td>93.58</td>\n",
       "      <td>85.40</td>\n",
       "      <td>91.28</td>\n",
       "      <td>55.5144</td>\n",
       "      <td>4839985</td>\n",
       "      <td>34.1700</td>\n",
       "      <td>48.6871</td>\n",
       "      <td>-44.2022</td>\n",
       "      <td>...</td>\n",
       "      <td>43.6819</td>\n",
       "      <td>-26.3314</td>\n",
       "      <td>-8.657741e+07</td>\n",
       "      <td>392047460.0</td>\n",
       "      <td>0.0</td>\n",
       "      <td>False</td>\n",
       "      <td>0.0</td>\n",
       "      <td>3.0</td>\n",
       "      <td>0.0</td>\n",
       "      <td>5.0</td>\n",
       "    </tr>\n",
       "    <tr>\n",
       "      <th>2</th>\n",
       "      <td>2007-03-12</td>\n",
       "      <td>90.20</td>\n",
       "      <td>94.59</td>\n",
       "      <td>90.20</td>\n",
       "      <td>91.81</td>\n",
       "      <td>55.8368</td>\n",
       "      <td>3205705</td>\n",
       "      <td>48.7047</td>\n",
       "      <td>69.3304</td>\n",
       "      <td>-40.6147</td>\n",
       "      <td>...</td>\n",
       "      <td>43.6938</td>\n",
       "      <td>23.4586</td>\n",
       "      <td>-8.743178e+07</td>\n",
       "      <td>395253165.0</td>\n",
       "      <td>0.0</td>\n",
       "      <td>False</td>\n",
       "      <td>0.0</td>\n",
       "      <td>0.0</td>\n",
       "      <td>0.0</td>\n",
       "      <td>5.0</td>\n",
       "    </tr>\n",
       "    <tr>\n",
       "      <th>3</th>\n",
       "      <td>2007-03-13</td>\n",
       "      <td>91.42</td>\n",
       "      <td>100.24</td>\n",
       "      <td>91.42</td>\n",
       "      <td>98.72</td>\n",
       "      <td>60.0393</td>\n",
       "      <td>5450040</td>\n",
       "      <td>67.9299</td>\n",
       "      <td>85.7721</td>\n",
       "      <td>-7.2415</td>\n",
       "      <td>...</td>\n",
       "      <td>41.1686</td>\n",
       "      <td>125.3260</td>\n",
       "      <td>-8.386021e+07</td>\n",
       "      <td>400703205.0</td>\n",
       "      <td>0.0</td>\n",
       "      <td>False</td>\n",
       "      <td>0.0</td>\n",
       "      <td>0.0</td>\n",
       "      <td>0.0</td>\n",
       "      <td>0.0</td>\n",
       "    </tr>\n",
       "    <tr>\n",
       "      <th>4</th>\n",
       "      <td>2007-03-14</td>\n",
       "      <td>97.00</td>\n",
       "      <td>97.00</td>\n",
       "      <td>92.70</td>\n",
       "      <td>94.56</td>\n",
       "      <td>57.5093</td>\n",
       "      <td>6524695</td>\n",
       "      <td>78.6763</td>\n",
       "      <td>80.9265</td>\n",
       "      <td>-27.0605</td>\n",
       "      <td>...</td>\n",
       "      <td>38.8958</td>\n",
       "      <td>65.6804</td>\n",
       "      <td>-8.474028e+07</td>\n",
       "      <td>394178510.0</td>\n",
       "      <td>0.0</td>\n",
       "      <td>False</td>\n",
       "      <td>0.0</td>\n",
       "      <td>0.0</td>\n",
       "      <td>0.0</td>\n",
       "      <td>0.0</td>\n",
       "    </tr>\n",
       "  </tbody>\n",
       "</table>\n",
       "<p>5 rows × 24 columns</p>\n",
       "</div>"
      ],
      "text/plain": [
       "         Date   Open    High    Low  Close  Adj_Close   Volume    SlowD  \\\n",
       "0  2007-03-08  84.73   90.00  82.41  87.22    53.0452  4318735  31.1875   \n",
       "1  2007-03-09  87.98   93.58  85.40  91.28    55.5144  4839985  34.1700   \n",
       "2  2007-03-12  90.20   94.59  90.20  91.81    55.8368  3205705  48.7047   \n",
       "3  2007-03-13  91.42  100.24  91.42  98.72    60.0393  5450040  67.9299   \n",
       "4  2007-03-14  97.00   97.00  92.70  94.56    57.5093  6524695  78.6763   \n",
       "\n",
       "     SlowK    WILLR        ...              ADX       CCI   Chaikin A/D  \\\n",
       "0  28.0967 -69.6843        ...          43.0987  -85.9803 -8.869564e+07   \n",
       "1  48.6871 -44.2022        ...          43.6819  -26.3314 -8.657741e+07   \n",
       "2  69.3304 -40.6147        ...          43.6938   23.4586 -8.743178e+07   \n",
       "3  85.7721  -7.2415        ...          41.1686  125.3260 -8.386021e+07   \n",
       "4  80.9265 -27.0605        ...          38.8958   65.6804 -8.474028e+07   \n",
       "\n",
       "           OBV  Axis Bank  isPartial  SMA3_GoogleTrends  EMA3_GoogleTrends  \\\n",
       "0  387207475.0        0.0      False                0.0                3.0   \n",
       "1  392047460.0        0.0      False                0.0                3.0   \n",
       "2  395253165.0        0.0      False                0.0                0.0   \n",
       "3  400703205.0        0.0      False                0.0                0.0   \n",
       "4  394178510.0        0.0      False                0.0                0.0   \n",
       "\n",
       "   SMA5_GoogleTrends  EMA5_GoogleTrends  \n",
       "0                0.0                5.0  \n",
       "1                0.0                5.0  \n",
       "2                0.0                5.0  \n",
       "3                0.0                0.0  \n",
       "4                0.0                0.0  \n",
       "\n",
       "[5 rows x 24 columns]"
      ]
     },
     "execution_count": 36,
     "metadata": {},
     "output_type": "execute_result"
    }
   ],
   "source": [
    "Data = pd.read_csv('AxisBankwGoogle.csv', index_col = None)\n",
    "Data = Data.drop(['Unnamed: 0'], axis =1)\n",
    "Data.head()"
   ]
  },
  {
   "cell_type": "markdown",
   "metadata": {},
   "source": [
    "# Creating Targets"
   ]
  },
  {
   "cell_type": "code",
   "execution_count": 37,
   "metadata": {},
   "outputs": [],
   "source": [
    "Targets = pd.DataFrame()\n",
    "\n",
    "Target1=[]\n",
    "for i in range(0,len(Data['Open'])-1):\n",
    "    if(Data.loc[i+1]['Open']-Data.loc[i]['Close']>=0):\n",
    "        Target1.append(1)\n",
    "    else:\n",
    "        Target1.append(0)\n",
    "Targets['Target1']=pd.Series(Target1)\n",
    "\n",
    "Target2=[]\n",
    "for i in range(0,len(Data['Open'])-1):\n",
    "    if(Data.loc[i+1]['Open']-Data.loc[i]['Open']>=0):\n",
    "        Target2.append(1)\n",
    "    else:\n",
    "        Target2.append(0)\n",
    "Targets['Target2']=pd.Series(Target2)"
   ]
  },
  {
   "cell_type": "code",
   "execution_count": 38,
   "metadata": {},
   "outputs": [
    {
     "data": {
      "text/html": [
       "<div>\n",
       "<style scoped>\n",
       "    .dataframe tbody tr th:only-of-type {\n",
       "        vertical-align: middle;\n",
       "    }\n",
       "\n",
       "    .dataframe tbody tr th {\n",
       "        vertical-align: top;\n",
       "    }\n",
       "\n",
       "    .dataframe thead th {\n",
       "        text-align: right;\n",
       "    }\n",
       "</style>\n",
       "<table border=\"1\" class=\"dataframe\">\n",
       "  <thead>\n",
       "    <tr style=\"text-align: right;\">\n",
       "      <th></th>\n",
       "      <th>Target1</th>\n",
       "      <th>Target2</th>\n",
       "    </tr>\n",
       "  </thead>\n",
       "  <tbody>\n",
       "    <tr>\n",
       "      <th>0</th>\n",
       "      <td>1</td>\n",
       "      <td>1</td>\n",
       "    </tr>\n",
       "    <tr>\n",
       "      <th>1</th>\n",
       "      <td>0</td>\n",
       "      <td>1</td>\n",
       "    </tr>\n",
       "    <tr>\n",
       "      <th>2</th>\n",
       "      <td>0</td>\n",
       "      <td>1</td>\n",
       "    </tr>\n",
       "    <tr>\n",
       "      <th>3</th>\n",
       "      <td>0</td>\n",
       "      <td>1</td>\n",
       "    </tr>\n",
       "    <tr>\n",
       "      <th>4</th>\n",
       "      <td>1</td>\n",
       "      <td>0</td>\n",
       "    </tr>\n",
       "  </tbody>\n",
       "</table>\n",
       "</div>"
      ],
      "text/plain": [
       "   Target1  Target2\n",
       "0        1        1\n",
       "1        0        1\n",
       "2        0        1\n",
       "3        0        1\n",
       "4        1        0"
      ]
     },
     "execution_count": 38,
     "metadata": {},
     "output_type": "execute_result"
    }
   ],
   "source": [
    "Targets.head()"
   ]
  },
  {
   "cell_type": "code",
   "execution_count": 39,
   "metadata": {},
   "outputs": [
    {
     "data": {
      "text/html": [
       "<div>\n",
       "<style scoped>\n",
       "    .dataframe tbody tr th:only-of-type {\n",
       "        vertical-align: middle;\n",
       "    }\n",
       "\n",
       "    .dataframe tbody tr th {\n",
       "        vertical-align: top;\n",
       "    }\n",
       "\n",
       "    .dataframe thead th {\n",
       "        text-align: right;\n",
       "    }\n",
       "</style>\n",
       "<table border=\"1\" class=\"dataframe\">\n",
       "  <thead>\n",
       "    <tr style=\"text-align: right;\">\n",
       "      <th></th>\n",
       "      <th>Date</th>\n",
       "      <th>Open</th>\n",
       "      <th>High</th>\n",
       "      <th>Low</th>\n",
       "      <th>Close</th>\n",
       "      <th>Adj_Close</th>\n",
       "      <th>Volume</th>\n",
       "      <th>SlowD</th>\n",
       "      <th>SlowK</th>\n",
       "      <th>WILLR</th>\n",
       "      <th>...</th>\n",
       "      <th>ADX</th>\n",
       "      <th>CCI</th>\n",
       "      <th>Chaikin A/D</th>\n",
       "      <th>OBV</th>\n",
       "      <th>Axis Bank</th>\n",
       "      <th>isPartial</th>\n",
       "      <th>SMA3_GoogleTrends</th>\n",
       "      <th>EMA3_GoogleTrends</th>\n",
       "      <th>SMA5_GoogleTrends</th>\n",
       "      <th>EMA5_GoogleTrends</th>\n",
       "    </tr>\n",
       "  </thead>\n",
       "  <tbody>\n",
       "    <tr>\n",
       "      <th>0</th>\n",
       "      <td>2007-03-08</td>\n",
       "      <td>84.73</td>\n",
       "      <td>90.00</td>\n",
       "      <td>82.41</td>\n",
       "      <td>87.22</td>\n",
       "      <td>53.0452</td>\n",
       "      <td>4318735</td>\n",
       "      <td>31.1875</td>\n",
       "      <td>28.0967</td>\n",
       "      <td>-69.6843</td>\n",
       "      <td>...</td>\n",
       "      <td>43.0987</td>\n",
       "      <td>-85.9803</td>\n",
       "      <td>-8.869564e+07</td>\n",
       "      <td>387207475.0</td>\n",
       "      <td>0.0</td>\n",
       "      <td>False</td>\n",
       "      <td>0.0</td>\n",
       "      <td>3.0</td>\n",
       "      <td>0.0</td>\n",
       "      <td>5.0</td>\n",
       "    </tr>\n",
       "    <tr>\n",
       "      <th>1</th>\n",
       "      <td>2007-03-09</td>\n",
       "      <td>87.98</td>\n",
       "      <td>93.58</td>\n",
       "      <td>85.40</td>\n",
       "      <td>91.28</td>\n",
       "      <td>55.5144</td>\n",
       "      <td>4839985</td>\n",
       "      <td>34.1700</td>\n",
       "      <td>48.6871</td>\n",
       "      <td>-44.2022</td>\n",
       "      <td>...</td>\n",
       "      <td>43.6819</td>\n",
       "      <td>-26.3314</td>\n",
       "      <td>-8.657741e+07</td>\n",
       "      <td>392047460.0</td>\n",
       "      <td>0.0</td>\n",
       "      <td>False</td>\n",
       "      <td>0.0</td>\n",
       "      <td>3.0</td>\n",
       "      <td>0.0</td>\n",
       "      <td>5.0</td>\n",
       "    </tr>\n",
       "    <tr>\n",
       "      <th>2</th>\n",
       "      <td>2007-03-12</td>\n",
       "      <td>90.20</td>\n",
       "      <td>94.59</td>\n",
       "      <td>90.20</td>\n",
       "      <td>91.81</td>\n",
       "      <td>55.8368</td>\n",
       "      <td>3205705</td>\n",
       "      <td>48.7047</td>\n",
       "      <td>69.3304</td>\n",
       "      <td>-40.6147</td>\n",
       "      <td>...</td>\n",
       "      <td>43.6938</td>\n",
       "      <td>23.4586</td>\n",
       "      <td>-8.743178e+07</td>\n",
       "      <td>395253165.0</td>\n",
       "      <td>0.0</td>\n",
       "      <td>False</td>\n",
       "      <td>0.0</td>\n",
       "      <td>0.0</td>\n",
       "      <td>0.0</td>\n",
       "      <td>5.0</td>\n",
       "    </tr>\n",
       "    <tr>\n",
       "      <th>3</th>\n",
       "      <td>2007-03-13</td>\n",
       "      <td>91.42</td>\n",
       "      <td>100.24</td>\n",
       "      <td>91.42</td>\n",
       "      <td>98.72</td>\n",
       "      <td>60.0393</td>\n",
       "      <td>5450040</td>\n",
       "      <td>67.9299</td>\n",
       "      <td>85.7721</td>\n",
       "      <td>-7.2415</td>\n",
       "      <td>...</td>\n",
       "      <td>41.1686</td>\n",
       "      <td>125.3260</td>\n",
       "      <td>-8.386021e+07</td>\n",
       "      <td>400703205.0</td>\n",
       "      <td>0.0</td>\n",
       "      <td>False</td>\n",
       "      <td>0.0</td>\n",
       "      <td>0.0</td>\n",
       "      <td>0.0</td>\n",
       "      <td>0.0</td>\n",
       "    </tr>\n",
       "    <tr>\n",
       "      <th>4</th>\n",
       "      <td>2007-03-14</td>\n",
       "      <td>97.00</td>\n",
       "      <td>97.00</td>\n",
       "      <td>92.70</td>\n",
       "      <td>94.56</td>\n",
       "      <td>57.5093</td>\n",
       "      <td>6524695</td>\n",
       "      <td>78.6763</td>\n",
       "      <td>80.9265</td>\n",
       "      <td>-27.0605</td>\n",
       "      <td>...</td>\n",
       "      <td>38.8958</td>\n",
       "      <td>65.6804</td>\n",
       "      <td>-8.474028e+07</td>\n",
       "      <td>394178510.0</td>\n",
       "      <td>0.0</td>\n",
       "      <td>False</td>\n",
       "      <td>0.0</td>\n",
       "      <td>0.0</td>\n",
       "      <td>0.0</td>\n",
       "      <td>0.0</td>\n",
       "    </tr>\n",
       "  </tbody>\n",
       "</table>\n",
       "<p>5 rows × 24 columns</p>\n",
       "</div>"
      ],
      "text/plain": [
       "         Date   Open    High    Low  Close  Adj_Close   Volume    SlowD  \\\n",
       "0  2007-03-08  84.73   90.00  82.41  87.22    53.0452  4318735  31.1875   \n",
       "1  2007-03-09  87.98   93.58  85.40  91.28    55.5144  4839985  34.1700   \n",
       "2  2007-03-12  90.20   94.59  90.20  91.81    55.8368  3205705  48.7047   \n",
       "3  2007-03-13  91.42  100.24  91.42  98.72    60.0393  5450040  67.9299   \n",
       "4  2007-03-14  97.00   97.00  92.70  94.56    57.5093  6524695  78.6763   \n",
       "\n",
       "     SlowK    WILLR        ...              ADX       CCI   Chaikin A/D  \\\n",
       "0  28.0967 -69.6843        ...          43.0987  -85.9803 -8.869564e+07   \n",
       "1  48.6871 -44.2022        ...          43.6819  -26.3314 -8.657741e+07   \n",
       "2  69.3304 -40.6147        ...          43.6938   23.4586 -8.743178e+07   \n",
       "3  85.7721  -7.2415        ...          41.1686  125.3260 -8.386021e+07   \n",
       "4  80.9265 -27.0605        ...          38.8958   65.6804 -8.474028e+07   \n",
       "\n",
       "           OBV  Axis Bank  isPartial  SMA3_GoogleTrends  EMA3_GoogleTrends  \\\n",
       "0  387207475.0        0.0      False                0.0                3.0   \n",
       "1  392047460.0        0.0      False                0.0                3.0   \n",
       "2  395253165.0        0.0      False                0.0                0.0   \n",
       "3  400703205.0        0.0      False                0.0                0.0   \n",
       "4  394178510.0        0.0      False                0.0                0.0   \n",
       "\n",
       "   SMA5_GoogleTrends  EMA5_GoogleTrends  \n",
       "0                0.0                5.0  \n",
       "1                0.0                5.0  \n",
       "2                0.0                5.0  \n",
       "3                0.0                0.0  \n",
       "4                0.0                0.0  \n",
       "\n",
       "[5 rows x 24 columns]"
      ]
     },
     "execution_count": 39,
     "metadata": {},
     "output_type": "execute_result"
    }
   ],
   "source": [
    "#Drop the Last row\n",
    "Data = Data.drop(Data.index[len(Data)-1])\n",
    "Data.head()"
   ]
  },
  {
   "cell_type": "code",
   "execution_count": 40,
   "metadata": {},
   "outputs": [
    {
     "name": "stdout",
     "output_type": "stream",
     "text": [
      "<class 'pandas.core.frame.DataFrame'>\n",
      "Int64Index: 2817 entries, 0 to 2816\n",
      "Data columns (total 24 columns):\n",
      "Date                 2817 non-null object\n",
      "Open                 2817 non-null float64\n",
      "High                 2817 non-null float64\n",
      "Low                  2817 non-null float64\n",
      "Close                2817 non-null float64\n",
      "Adj_Close            2817 non-null float64\n",
      "Volume               2817 non-null int64\n",
      "SlowD                2817 non-null float64\n",
      "SlowK                2817 non-null float64\n",
      "WILLR                2817 non-null float64\n",
      "MACD                 2817 non-null float64\n",
      "MACD_Signal          2817 non-null float64\n",
      "MACD_Hist            2817 non-null float64\n",
      "RSI                  2817 non-null float64\n",
      "ADX                  2817 non-null float64\n",
      "CCI                  2817 non-null float64\n",
      "Chaikin A/D          2817 non-null float64\n",
      "OBV                  2817 non-null float64\n",
      "Axis Bank            2817 non-null float64\n",
      "isPartial            2817 non-null bool\n",
      "SMA3_GoogleTrends    2817 non-null float64\n",
      "EMA3_GoogleTrends    2817 non-null float64\n",
      "SMA5_GoogleTrends    2817 non-null float64\n",
      "EMA5_GoogleTrends    2817 non-null float64\n",
      "dtypes: bool(1), float64(21), int64(1), object(1)\n",
      "memory usage: 530.9+ KB\n"
     ]
    }
   ],
   "source": [
    "Data.info()"
   ]
  },
  {
   "cell_type": "markdown",
   "metadata": {},
   "source": [
    "#  Prediction Using TimeSeries + Technical Indicators Data"
   ]
  },
  {
   "cell_type": "markdown",
   "metadata": {},
   "source": [
    "## Predicting Target 1 [Open(i+1) - Close(i)] "
   ]
  },
  {
   "cell_type": "markdown",
   "metadata": {},
   "source": [
    "### Machine Learning Models"
   ]
  },
  {
   "cell_type": "code",
   "execution_count": 41,
   "metadata": {},
   "outputs": [],
   "source": [
    "X = Data\n",
    "X = X.drop('Date', axis = 1)\n",
    "Y = Targets['Target1']\n",
    "prediction = pd.DataFrame()\n",
    "X_train, X_test, y_train, y_test = train_test_split(X, Y, test_size=0.33, random_state = 42,shuffle='False')\n",
    "X_train = preprocessing.normalize(X_train)\n",
    "X_test =  preprocessing.normalize(X_test)"
   ]
  },
  {
   "cell_type": "markdown",
   "metadata": {},
   "source": [
    "### Decision Tree"
   ]
  },
  {
   "cell_type": "code",
   "execution_count": 44,
   "metadata": {},
   "outputs": [
    {
     "name": "stdout",
     "output_type": "stream",
     "text": [
      "Accuracy 0.5548387096774193\n",
      "             precision    recall  f1-score   support\n",
      "\n",
      "          0       0.40      0.39      0.39       345\n",
      "          1       0.64      0.65      0.65       585\n",
      "\n",
      "avg / total       0.55      0.55      0.55       930\n",
      "\n",
      "[[0.38550725 0.61449275]\n",
      " [0.34529915 0.65470085]]\n"
     ]
    }
   ],
   "source": [
    "from sklearn import tree\n",
    "clf = tree.DecisionTreeClassifier()\n",
    "clf = clf.fit(X_train, y_train)\n",
    "prediction['DT'] = clf.predict(X_test)\n",
    "print(\"Accuracy \"+str(accuracy_score(y_test, prediction[\"DT\"])))\n",
    "print(classification_report(y_test, prediction['DT']))\n",
    "conf_mat = confusion_matrix(y_test, prediction['DT'])\n",
    "conf_mat_normalized = conf_mat.astype('float') / conf_mat.sum(axis=1)[:, np.newaxis]\n",
    "print(conf_mat_normalized)"
   ]
  },
  {
   "cell_type": "markdown",
   "metadata": {},
   "source": [
    "### Logistic Regression"
   ]
  },
  {
   "cell_type": "code",
   "execution_count": 45,
   "metadata": {},
   "outputs": [
    {
     "name": "stdout",
     "output_type": "stream",
     "text": [
      "0.6290322580645161\n",
      "             precision    recall  f1-score   support\n",
      "\n",
      "          0       0.00      0.00      0.00       345\n",
      "          1       0.63      1.00      0.77       585\n",
      "\n",
      "avg / total       0.40      0.63      0.49       930\n",
      "\n",
      "[[0. 1.]\n",
      " [0. 1.]]\n"
     ]
    },
    {
     "name": "stderr",
     "output_type": "stream",
     "text": [
      "C:\\ProgramData\\Anaconda3\\lib\\site-packages\\sklearn\\metrics\\classification.py:1135: UndefinedMetricWarning: Precision and F-score are ill-defined and being set to 0.0 in labels with no predicted samples.\n",
      "  'precision', 'predicted', average, warn_for)\n"
     ]
    }
   ],
   "source": [
    "model = LogisticRegression()\n",
    "model.fit(X_train,y_train)\n",
    "prediction[\"LR\"] = model.predict(X_test)\n",
    "print(accuracy_score(y_test, prediction[\"LR\"]))\n",
    "print(classification_report(y_test, prediction['LR']))\n",
    "conf_mat = confusion_matrix(y_test, prediction['LR'])\n",
    "conf_mat_normalized = conf_mat.astype('float') / conf_mat.sum(axis=1)[:, np.newaxis]\n",
    "print(conf_mat_normalized)"
   ]
  },
  {
   "cell_type": "code",
   "execution_count": 46,
   "metadata": {},
   "outputs": [
    {
     "name": "stdout",
     "output_type": "stream",
     "text": [
      "0.6290322580645161\n",
      "             precision    recall  f1-score   support\n",
      "\n",
      "          0       0.00      0.00      0.00       345\n",
      "          1       0.63      1.00      0.77       585\n",
      "\n",
      "avg / total       0.40      0.63      0.49       930\n",
      "\n",
      "[[0. 1.]\n",
      " [0. 1.]]\n"
     ]
    },
    {
     "name": "stderr",
     "output_type": "stream",
     "text": [
      "C:\\ProgramData\\Anaconda3\\lib\\site-packages\\sklearn\\metrics\\classification.py:1135: UndefinedMetricWarning: Precision and F-score are ill-defined and being set to 0.0 in labels with no predicted samples.\n",
      "  'precision', 'predicted', average, warn_for)\n"
     ]
    }
   ],
   "source": [
    "# Support Vector Machine(SVM)\n",
    "model = svm.SVC()\n",
    "model.fit(X_train, y_train)  \n",
    "prediction[\"SVM\"] = model.predict(X_test)\n",
    "print(accuracy_score(y_test, prediction[\"SVM\"]))\n",
    "print(classification_report(y_test, prediction['SVM']))\n",
    "conf_mat = confusion_matrix(y_test, prediction['SVM'])\n",
    "conf_mat_normalized = conf_mat.astype('float') / conf_mat.sum(axis=1)[:, np.newaxis]\n",
    "print(conf_mat_normalized)"
   ]
  },
  {
   "cell_type": "markdown",
   "metadata": {},
   "source": [
    "### K Nearest Neighbours(KNN)"
   ]
  },
  {
   "cell_type": "code",
   "execution_count": 47,
   "metadata": {},
   "outputs": [
    {
     "name": "stdout",
     "output_type": "stream",
     "text": [
      "KNeighborsClassifier(algorithm='auto', leaf_size=30, metric='minkowski',\n",
      "           metric_params=None, n_jobs=1, n_neighbors=3, p=2,\n",
      "           weights='uniform')\n",
      "Accuracy : 0.5688172043010753\n",
      "             precision    recall  f1-score   support\n",
      "\n",
      "          0       0.40      0.33      0.36       345\n",
      "          1       0.64      0.71      0.67       585\n",
      "\n",
      "avg / total       0.55      0.57      0.56       930\n",
      "\n",
      "[[0.33043478 0.66956522]\n",
      " [0.29059829 0.70940171]]\n"
     ]
    }
   ],
   "source": [
    "model = KNeighborsClassifier(n_neighbors=3)\n",
    "print(model.fit(X_train,y_train))\n",
    "prediction[\"KNN\"] = model.predict(X_test)\n",
    "print(\"Accuracy : \" + str(accuracy_score(y_test, prediction[\"KNN\"])))\n",
    "print(classification_report(y_test, prediction['KNN']))\n",
    "conf_mat = confusion_matrix(y_test, prediction['KNN'])\n",
    "conf_mat_normalized = conf_mat.astype('float') / conf_mat.sum(axis=1)[:, np.newaxis]\n",
    "print(conf_mat_normalized)"
   ]
  },
  {
   "cell_type": "markdown",
   "metadata": {},
   "source": [
    "### Random Forest Classifier"
   ]
  },
  {
   "cell_type": "code",
   "execution_count": 48,
   "metadata": {},
   "outputs": [
    {
     "name": "stdout",
     "output_type": "stream",
     "text": [
      "RandomForestClassifier(bootstrap=True, class_weight=None, criterion='gini',\n",
      "            max_depth=None, max_features='auto', max_leaf_nodes=None,\n",
      "            min_impurity_decrease=0.0, min_impurity_split=None,\n",
      "            min_samples_leaf=1, min_samples_split=2,\n",
      "            min_weight_fraction_leaf=0.0, n_estimators=100, n_jobs=1,\n",
      "            oob_score=False, random_state=None, verbose=0,\n",
      "            warm_start=False)\n",
      "0.6290322580645161\n",
      "             precision    recall  f1-score   support\n",
      "\n",
      "          0       0.00      0.00      0.00       345\n",
      "          1       0.63      1.00      0.77       585\n",
      "\n",
      "avg / total       0.40      0.63      0.49       930\n",
      "\n",
      "[[0. 1.]\n",
      " [0. 1.]]\n"
     ]
    },
    {
     "name": "stderr",
     "output_type": "stream",
     "text": [
      "C:\\ProgramData\\Anaconda3\\lib\\site-packages\\sklearn\\metrics\\classification.py:1135: UndefinedMetricWarning: Precision and F-score are ill-defined and being set to 0.0 in labels with no predicted samples.\n",
      "  'precision', 'predicted', average, warn_for)\n"
     ]
    }
   ],
   "source": [
    "rf = RandomForestClassifier(n_estimators=100)\n",
    "print(rf.fit(X_train, y_train))\n",
    "prediction[\"Random Forest Classifier\"] = rf.predict(X_test)\n",
    "print(accuracy_score(y_test, prediction[\"Random Forest Classifier\"]))\n",
    "print(classification_report(y_test, prediction['Random Forest Classifier']))\n",
    "conf_mat = confusion_matrix(y_test, prediction['Random Forest Classifier'])\n",
    "conf_mat_normalized = conf_mat.astype('float') / conf_mat.sum(axis=1)[:, np.newaxis]\n",
    "print(conf_mat_normalized)"
   ]
  },
  {
   "cell_type": "markdown",
   "metadata": {},
   "source": [
    "### ADA Boost Classifier"
   ]
  },
  {
   "cell_type": "code",
   "execution_count": 49,
   "metadata": {},
   "outputs": [
    {
     "name": "stdout",
     "output_type": "stream",
     "text": [
      "AdaBoostClassifier(algorithm='SAMME.R', base_estimator=None,\n",
      "          learning_rate=1.0, n_estimators=50, random_state=None)\n",
      "0.6204301075268818\n",
      "             precision    recall  f1-score   support\n",
      "\n",
      "          0       0.32      0.02      0.04       345\n",
      "          1       0.63      0.97      0.76       585\n",
      "\n",
      "avg / total       0.51      0.62      0.49       930\n",
      "\n",
      "[[0.02028986 0.97971014]\n",
      " [0.02564103 0.97435897]]\n"
     ]
    }
   ],
   "source": [
    "model = AdaBoostClassifier()\n",
    "print(model.fit(X_train,y_train))\n",
    "prediction[\"ADA\"] = model.predict(X_test)\n",
    "print(accuracy_score(y_test, prediction[\"ADA\"]))\n",
    "print(classification_report(y_test, prediction['ADA']))\n",
    "conf_mat = confusion_matrix(y_test, prediction['ADA'])\n",
    "conf_mat_normalized = conf_mat.astype('float') / conf_mat.sum(axis=1)[:, np.newaxis]\n",
    "print(conf_mat_normalized)"
   ]
  },
  {
   "cell_type": "code",
   "execution_count": 50,
   "metadata": {},
   "outputs": [
    {
     "name": "stdout",
     "output_type": "stream",
     "text": [
      "Accuracy of DT: 0.5548387096774193\n",
      "Accuracy of LR: 0.6290322580645161\n",
      "Accuracy of SVM: 0.6290322580645161\n",
      "Accuracy of KNN: 0.5688172043010753\n",
      "Accuracy of Random Forest Classifier: 0.6290322580645161\n",
      "Accuracy of ADA: 0.6204301075268818\n"
     ]
    }
   ],
   "source": [
    "for column in prediction.columns[:]:\n",
    "    print(\"Accuracy of \" + str(column) + \": \"+ str(accuracy_score(y_test, prediction[column])))"
   ]
  },
  {
   "cell_type": "markdown",
   "metadata": {},
   "source": [
    "## Predicting Target 2 [Open(i+1) - Open(i)] "
   ]
  },
  {
   "cell_type": "markdown",
   "metadata": {},
   "source": [
    "### Machine Learning Models"
   ]
  },
  {
   "cell_type": "code",
   "execution_count": 60,
   "metadata": {},
   "outputs": [],
   "source": [
    "X = Data\n",
    "X = X.drop('Date', axis = 1)\n",
    "Y = Targets['Target2']\n",
    "prediction = pd.DataFrame()\n",
    "X_train, X_test, y_train, y_test = train_test_split(X, Y, test_size=0.45, random_state = 52,shuffle='False')"
   ]
  },
  {
   "cell_type": "markdown",
   "metadata": {},
   "source": [
    "### Decision Tree"
   ]
  },
  {
   "cell_type": "code",
   "execution_count": 61,
   "metadata": {},
   "outputs": [
    {
     "name": "stdout",
     "output_type": "stream",
     "text": [
      "Accuracy 0.6293375394321766\n",
      "             precision    recall  f1-score   support\n",
      "\n",
      "          0       0.62      0.64      0.63       622\n",
      "          1       0.64      0.62      0.63       646\n",
      "\n",
      "avg / total       0.63      0.63      0.63      1268\n",
      "\n",
      "[[0.63665595 0.36334405]\n",
      " [0.37770898 0.62229102]]\n"
     ]
    }
   ],
   "source": [
    "from sklearn import tree\n",
    "clf = tree.DecisionTreeClassifier()\n",
    "clf = clf.fit(X_train, y_train)\n",
    "prediction['DT'] = clf.predict(X_test)\n",
    "print(\"Accuracy \"+str(accuracy_score(y_test, prediction[\"DT\"])))\n",
    "print(classification_report(y_test, prediction['DT']))\n",
    "conf_mat = confusion_matrix(y_test, prediction['DT'])\n",
    "conf_mat_normalized = conf_mat.astype('float') / conf_mat.sum(axis=1)[:, np.newaxis]\n",
    "print(conf_mat_normalized)"
   ]
  },
  {
   "cell_type": "markdown",
   "metadata": {},
   "source": [
    "### Logistic Regression"
   ]
  },
  {
   "cell_type": "code",
   "execution_count": 62,
   "metadata": {},
   "outputs": [
    {
     "name": "stdout",
     "output_type": "stream",
     "text": [
      "0.5205047318611987\n",
      "             precision    recall  f1-score   support\n",
      "\n",
      "          0       0.51      0.45      0.48       622\n",
      "          1       0.53      0.58      0.55       646\n",
      "\n",
      "avg / total       0.52      0.52      0.52      1268\n",
      "\n",
      "[[0.45498392 0.54501608]\n",
      " [0.41640867 0.58359133]]\n"
     ]
    }
   ],
   "source": [
    "model = LogisticRegression()\n",
    "model.fit(X_train,y_train)\n",
    "prediction[\"LR\"] = model.predict(X_test)\n",
    "print(accuracy_score(y_test, prediction[\"LR\"]))\n",
    "print(classification_report(y_test, prediction['LR']))\n",
    "conf_mat = confusion_matrix(y_test, prediction['LR'])\n",
    "conf_mat_normalized = conf_mat.astype('float') / conf_mat.sum(axis=1)[:, np.newaxis]\n",
    "print(conf_mat_normalized)"
   ]
  },
  {
   "cell_type": "code",
   "execution_count": 63,
   "metadata": {},
   "outputs": [
    {
     "name": "stdout",
     "output_type": "stream",
     "text": [
      "0.5094637223974764\n",
      "             precision    recall  f1-score   support\n",
      "\n",
      "          0       0.00      0.00      0.00       622\n",
      "          1       0.51      1.00      0.68       646\n",
      "\n",
      "avg / total       0.26      0.51      0.34      1268\n",
      "\n",
      "[[0. 1.]\n",
      " [0. 1.]]\n"
     ]
    },
    {
     "name": "stderr",
     "output_type": "stream",
     "text": [
      "C:\\ProgramData\\Anaconda3\\lib\\site-packages\\sklearn\\metrics\\classification.py:1135: UndefinedMetricWarning: Precision and F-score are ill-defined and being set to 0.0 in labels with no predicted samples.\n",
      "  'precision', 'predicted', average, warn_for)\n"
     ]
    }
   ],
   "source": [
    "# # Support Vector Machine(SVM)\n",
    "\n",
    "model = svm.SVC()\n",
    "model.fit(X_train, y_train)  \n",
    "\n",
    "prediction[\"SVM\"] = model.predict(X_test)\n",
    "\n",
    "print(accuracy_score(y_test, prediction[\"SVM\"]))\n",
    "\n",
    "print(classification_report(y_test, prediction['SVM']))\n",
    "\n",
    "conf_mat = confusion_matrix(y_test, prediction['SVM'])\n",
    "conf_mat_normalized = conf_mat.astype('float') / conf_mat.sum(axis=1)[:, np.newaxis]\n",
    "print(conf_mat_normalized)"
   ]
  },
  {
   "cell_type": "markdown",
   "metadata": {},
   "source": [
    "### K Nearest Neighbours(KNN)"
   ]
  },
  {
   "cell_type": "code",
   "execution_count": 64,
   "metadata": {},
   "outputs": [
    {
     "name": "stdout",
     "output_type": "stream",
     "text": [
      "KNeighborsClassifier(algorithm='auto', leaf_size=30, metric='minkowski',\n",
      "           metric_params=None, n_jobs=1, n_neighbors=3, p=2,\n",
      "           weights='uniform')\n",
      "Accuracy : 0.4921135646687697\n",
      "             precision    recall  f1-score   support\n",
      "\n",
      "          0       0.48      0.49      0.49       622\n",
      "          1       0.50      0.49      0.50       646\n",
      "\n",
      "avg / total       0.49      0.49      0.49      1268\n",
      "\n",
      "[[0.49196141 0.50803859]\n",
      " [0.50773994 0.49226006]]\n"
     ]
    }
   ],
   "source": [
    "model = KNeighborsClassifier(n_neighbors=3)\n",
    "print(model.fit(X_train,y_train))\n",
    "prediction[\"KNN\"] = model.predict(X_test)\n",
    "print(\"Accuracy : \" + str(accuracy_score(y_test, prediction[\"KNN\"])))\n",
    "print(classification_report(y_test, prediction['KNN']))\n",
    "conf_mat = confusion_matrix(y_test, prediction['KNN'])\n",
    "conf_mat_normalized = conf_mat.astype('float') / conf_mat.sum(axis=1)[:, np.newaxis]\n",
    "print(conf_mat_normalized)"
   ]
  },
  {
   "cell_type": "markdown",
   "metadata": {},
   "source": [
    "### Random Forest Classifier"
   ]
  },
  {
   "cell_type": "code",
   "execution_count": 67,
   "metadata": {},
   "outputs": [
    {
     "name": "stdout",
     "output_type": "stream",
     "text": [
      "RandomForestClassifier(bootstrap=True, class_weight=None, criterion='gini',\n",
      "            max_depth=None, max_features='auto', max_leaf_nodes=None,\n",
      "            min_impurity_decrease=0.0, min_impurity_split=None,\n",
      "            min_samples_leaf=1, min_samples_split=2,\n",
      "            min_weight_fraction_leaf=0.0, n_estimators=100, n_jobs=1,\n",
      "            oob_score=False, random_state=None, verbose=0,\n",
      "            warm_start=False)\n",
      "0.7247634069400631\n",
      "             precision    recall  f1-score   support\n",
      "\n",
      "          0       0.71      0.74      0.72       622\n",
      "          1       0.74      0.71      0.72       646\n",
      "\n",
      "avg / total       0.73      0.72      0.72      1268\n",
      "\n",
      "[[0.73794212 0.26205788]\n",
      " [0.2879257  0.7120743 ]]\n"
     ]
    }
   ],
   "source": [
    "rf = RandomForestClassifier(n_estimators=100)\n",
    "print(rf.fit(X_train, y_train))\n",
    "prediction[\"Random Forest Classifier\"] = rf.predict(X_test)\n",
    "print(accuracy_score(y_test, prediction[\"Random Forest Classifier\"]))\n",
    "print(classification_report(y_test, prediction['Random Forest Classifier']))\n",
    "conf_mat = confusion_matrix(y_test, prediction['Random Forest Classifier'])\n",
    "conf_mat_normalized = conf_mat.astype('float') / conf_mat.sum(axis=1)[:, np.newaxis]\n",
    "print(conf_mat_normalized)"
   ]
  },
  {
   "cell_type": "markdown",
   "metadata": {},
   "source": [
    "### ADA Boost Classifier"
   ]
  },
  {
   "cell_type": "code",
   "execution_count": 68,
   "metadata": {},
   "outputs": [
    {
     "name": "stdout",
     "output_type": "stream",
     "text": [
      "AdaBoostClassifier(algorithm='SAMME.R', base_estimator=None,\n",
      "          learning_rate=1.0, n_estimators=50, random_state=None)\n",
      "0.749211356466877\n",
      "             precision    recall  f1-score   support\n",
      "\n",
      "          0       0.74      0.76      0.75       622\n",
      "          1       0.76      0.74      0.75       646\n",
      "\n",
      "avg / total       0.75      0.75      0.75      1268\n",
      "\n",
      "[[0.76045016 0.23954984]\n",
      " [0.26160991 0.73839009]]\n"
     ]
    }
   ],
   "source": [
    "model = AdaBoostClassifier()\n",
    "print(model.fit(X_train,y_train))\n",
    "prediction[\"ADA\"] = model.predict(X_test)\n",
    "print(accuracy_score(y_test, prediction[\"ADA\"]))\n",
    "print(classification_report(y_test, prediction['ADA']))\n",
    "conf_mat = confusion_matrix(y_test, prediction['ADA'])\n",
    "conf_mat_normalized = conf_mat.astype('float') / conf_mat.sum(axis=1)[:, np.newaxis]\n",
    "print(conf_mat_normalized)"
   ]
  },
  {
   "cell_type": "code",
   "execution_count": 58,
   "metadata": {},
   "outputs": [
    {
     "name": "stdout",
     "output_type": "stream",
     "text": [
      "Accuracy of DT: 0.6795698924731183\n",
      "Accuracy of LR: 0.513978494623656\n",
      "Accuracy of SVM: 0.5161290322580645\n",
      "Accuracy of KNN: 0.46344086021505376\n",
      "Accuracy of Random Forest Classifier: 0.7397849462365591\n",
      "Accuracy of ADA: 0.7279569892473118\n"
     ]
    }
   ],
   "source": [
    "for column in prediction.columns[:]:\n",
    "    print(\"Accuracy of \" + str(column) + \": \"+ str(accuracy_score(y_test, prediction[column])))"
   ]
  },
  {
   "cell_type": "code",
   "execution_count": null,
   "metadata": {},
   "outputs": [],
   "source": []
  },
  {
   "cell_type": "code",
   "execution_count": null,
   "metadata": {},
   "outputs": [],
   "source": []
  },
  {
   "cell_type": "code",
   "execution_count": null,
   "metadata": {},
   "outputs": [],
   "source": []
  },
  {
   "cell_type": "code",
   "execution_count": null,
   "metadata": {},
   "outputs": [],
   "source": []
  },
  {
   "cell_type": "code",
   "execution_count": null,
   "metadata": {},
   "outputs": [],
   "source": []
  }
 ],
 "metadata": {
  "kernelspec": {
   "display_name": "Python 3",
   "language": "python",
   "name": "python3"
  },
  "language_info": {
   "codemirror_mode": {
    "name": "ipython",
    "version": 3
   },
   "file_extension": ".py",
   "mimetype": "text/x-python",
   "name": "python",
   "nbconvert_exporter": "python",
   "pygments_lexer": "ipython3",
   "version": "3.6.4"
  }
 },
 "nbformat": 4,
 "nbformat_minor": 2
}
