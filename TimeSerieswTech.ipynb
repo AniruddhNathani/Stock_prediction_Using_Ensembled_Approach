{
 "cells": [
  {
   "cell_type": "code",
   "execution_count": 8,
   "metadata": {},
   "outputs": [],
   "source": [
    "import pandas as pd\n",
    "import numpy as np\n",
    "import matplotlib.pyplot as plt\n",
    "import seaborn as sns\n",
    "from sklearn.model_selection import train_test_split\n",
    "from sklearn.metrics import accuracy_score,confusion_matrix,classification_report\n",
    "from sklearn.linear_model import LogisticRegression\n",
    "from sklearn import svm\n",
    "from sklearn.neighbors import KNeighborsClassifier\n",
    "from sklearn.ensemble import RandomForestClassifier\n",
    "from sklearn.ensemble import AdaBoostClassifier\n",
    "from sklearn import preprocessing"
   ]
  },
  {
   "cell_type": "code",
   "execution_count": 9,
   "metadata": {},
   "outputs": [
    {
     "data": {
      "text/html": [
       "<div>\n",
       "<style scoped>\n",
       "    .dataframe tbody tr th:only-of-type {\n",
       "        vertical-align: middle;\n",
       "    }\n",
       "\n",
       "    .dataframe tbody tr th {\n",
       "        vertical-align: top;\n",
       "    }\n",
       "\n",
       "    .dataframe thead th {\n",
       "        text-align: right;\n",
       "    }\n",
       "</style>\n",
       "<table border=\"1\" class=\"dataframe\">\n",
       "  <thead>\n",
       "    <tr style=\"text-align: right;\">\n",
       "      <th></th>\n",
       "      <th>Date</th>\n",
       "      <th>Open</th>\n",
       "      <th>High</th>\n",
       "      <th>Low</th>\n",
       "      <th>Close</th>\n",
       "      <th>Adj_Close</th>\n",
       "      <th>Volume</th>\n",
       "      <th>SlowD</th>\n",
       "      <th>SlowK</th>\n",
       "      <th>WILLR</th>\n",
       "      <th>MACD</th>\n",
       "      <th>MACD_Signal</th>\n",
       "      <th>MACD_Hist</th>\n",
       "      <th>RSI</th>\n",
       "      <th>ADX</th>\n",
       "      <th>CCI</th>\n",
       "      <th>Chaikin A/D</th>\n",
       "      <th>OBV</th>\n",
       "    </tr>\n",
       "  </thead>\n",
       "  <tbody>\n",
       "    <tr>\n",
       "      <th>0</th>\n",
       "      <td>2000-02-17</td>\n",
       "      <td>7.80</td>\n",
       "      <td>7.86</td>\n",
       "      <td>7.46</td>\n",
       "      <td>7.50</td>\n",
       "      <td>1.4158</td>\n",
       "      <td>282000</td>\n",
       "      <td>24.1228</td>\n",
       "      <td>19.7531</td>\n",
       "      <td>-78.5000</td>\n",
       "      <td>0.7759</td>\n",
       "      <td>0.7358</td>\n",
       "      <td>0.0401</td>\n",
       "      <td>55.0398</td>\n",
       "      <td>23.2628</td>\n",
       "      <td>-50.8876</td>\n",
       "      <td>-4.788646e+06</td>\n",
       "      <td>-1112500.0</td>\n",
       "    </tr>\n",
       "    <tr>\n",
       "      <th>1</th>\n",
       "      <td>2000-02-18</td>\n",
       "      <td>7.40</td>\n",
       "      <td>7.55</td>\n",
       "      <td>6.91</td>\n",
       "      <td>7.05</td>\n",
       "      <td>1.3308</td>\n",
       "      <td>448500</td>\n",
       "      <td>20.4926</td>\n",
       "      <td>20.2658</td>\n",
       "      <td>-93.5185</td>\n",
       "      <td>0.7222</td>\n",
       "      <td>0.7331</td>\n",
       "      <td>-0.0108</td>\n",
       "      <td>51.9009</td>\n",
       "      <td>21.4223</td>\n",
       "      <td>-115.7220</td>\n",
       "      <td>-5.040927e+06</td>\n",
       "      <td>-1561000.0</td>\n",
       "    </tr>\n",
       "    <tr>\n",
       "      <th>2</th>\n",
       "      <td>2000-02-21</td>\n",
       "      <td>7.49</td>\n",
       "      <td>7.60</td>\n",
       "      <td>7.10</td>\n",
       "      <td>7.19</td>\n",
       "      <td>1.3573</td>\n",
       "      <td>360500</td>\n",
       "      <td>19.9012</td>\n",
       "      <td>19.6848</td>\n",
       "      <td>-86.3415</td>\n",
       "      <td>0.6792</td>\n",
       "      <td>0.7223</td>\n",
       "      <td>-0.0431</td>\n",
       "      <td>52.5770</td>\n",
       "      <td>19.8626</td>\n",
       "      <td>-77.4985</td>\n",
       "      <td>-5.271647e+06</td>\n",
       "      <td>-1200500.0</td>\n",
       "    </tr>\n",
       "    <tr>\n",
       "      <th>3</th>\n",
       "      <td>2000-02-22</td>\n",
       "      <td>7.44</td>\n",
       "      <td>7.50</td>\n",
       "      <td>6.70</td>\n",
       "      <td>6.92</td>\n",
       "      <td>1.3063</td>\n",
       "      <td>331500</td>\n",
       "      <td>19.4578</td>\n",
       "      <td>18.4228</td>\n",
       "      <td>-90.2655</td>\n",
       "      <td>0.6337</td>\n",
       "      <td>0.7046</td>\n",
       "      <td>-0.0709</td>\n",
       "      <td>52.1247</td>\n",
       "      <td>18.1711</td>\n",
       "      <td>-111.5418</td>\n",
       "      <td>-5.420822e+06</td>\n",
       "      <td>-1532000.0</td>\n",
       "    </tr>\n",
       "    <tr>\n",
       "      <th>4</th>\n",
       "      <td>2000-02-23</td>\n",
       "      <td>6.78</td>\n",
       "      <td>7.14</td>\n",
       "      <td>6.60</td>\n",
       "      <td>6.74</td>\n",
       "      <td>1.2723</td>\n",
       "      <td>227500</td>\n",
       "      <td>19.3192</td>\n",
       "      <td>19.8501</td>\n",
       "      <td>-94.0678</td>\n",
       "      <td>0.5382</td>\n",
       "      <td>0.6713</td>\n",
       "      <td>-0.1331</td>\n",
       "      <td>46.2850</td>\n",
       "      <td>16.8671</td>\n",
       "      <td>-119.6643</td>\n",
       "      <td>-5.530360e+06</td>\n",
       "      <td>-1759500.0</td>\n",
       "    </tr>\n",
       "  </tbody>\n",
       "</table>\n",
       "</div>"
      ],
      "text/plain": [
       "         Date  Open  High   Low  Close  Adj_Close  Volume    SlowD    SlowK  \\\n",
       "0  2000-02-17  7.80  7.86  7.46   7.50     1.4158  282000  24.1228  19.7531   \n",
       "1  2000-02-18  7.40  7.55  6.91   7.05     1.3308  448500  20.4926  20.2658   \n",
       "2  2000-02-21  7.49  7.60  7.10   7.19     1.3573  360500  19.9012  19.6848   \n",
       "3  2000-02-22  7.44  7.50  6.70   6.92     1.3063  331500  19.4578  18.4228   \n",
       "4  2000-02-23  6.78  7.14  6.60   6.74     1.2723  227500  19.3192  19.8501   \n",
       "\n",
       "     WILLR    MACD  MACD_Signal  MACD_Hist      RSI      ADX       CCI  \\\n",
       "0 -78.5000  0.7759       0.7358     0.0401  55.0398  23.2628  -50.8876   \n",
       "1 -93.5185  0.7222       0.7331    -0.0108  51.9009  21.4223 -115.7220   \n",
       "2 -86.3415  0.6792       0.7223    -0.0431  52.5770  19.8626  -77.4985   \n",
       "3 -90.2655  0.6337       0.7046    -0.0709  52.1247  18.1711 -111.5418   \n",
       "4 -94.0678  0.5382       0.6713    -0.1331  46.2850  16.8671 -119.6643   \n",
       "\n",
       "    Chaikin A/D        OBV  \n",
       "0 -4.788646e+06 -1112500.0  \n",
       "1 -5.040927e+06 -1561000.0  \n",
       "2 -5.271647e+06 -1200500.0  \n",
       "3 -5.420822e+06 -1532000.0  \n",
       "4 -5.530360e+06 -1759500.0  "
      ]
     },
     "execution_count": 9,
     "metadata": {},
     "output_type": "execute_result"
    }
   ],
   "source": [
    "Data = pd.read_csv('AxisBankwTech.csv', index_col = None)\n",
    "Data = Data.drop(['Unnamed: 0'], axis =1)\n",
    "Data.head()\n"
   ]
  },
  {
   "cell_type": "markdown",
   "metadata": {},
   "source": [
    "# Creating Targets"
   ]
  },
  {
   "cell_type": "code",
   "execution_count": 4,
   "metadata": {},
   "outputs": [],
   "source": [
    "Targets = pd.DataFrame()\n",
    "\n",
    "Target1=[]\n",
    "for i in range(0,len(Data['Open'])-1):\n",
    "    if(Data.loc[i+1]['Open']-Data.loc[i]['Close']>=0):\n",
    "        Target1.append(1)\n",
    "    else:\n",
    "        Target1.append(0)\n",
    "Targets['Target1']=pd.Series(Target1)\n",
    "\n",
    "Target2=[]\n",
    "for i in range(0,len(Data['Open'])-1):\n",
    "    if(Data.loc[i+1]['Open']-Data.loc[i]['Open']>=0):\n",
    "        Target2.append(1)\n",
    "    else:\n",
    "        Target2.append(0)\n",
    "Targets['Target2']=pd.Series(Target2)"
   ]
  },
  {
   "cell_type": "code",
   "execution_count": 4,
   "metadata": {},
   "outputs": [
    {
     "data": {
      "text/html": [
       "<div>\n",
       "<style scoped>\n",
       "    .dataframe tbody tr th:only-of-type {\n",
       "        vertical-align: middle;\n",
       "    }\n",
       "\n",
       "    .dataframe tbody tr th {\n",
       "        vertical-align: top;\n",
       "    }\n",
       "\n",
       "    .dataframe thead th {\n",
       "        text-align: right;\n",
       "    }\n",
       "</style>\n",
       "<table border=\"1\" class=\"dataframe\">\n",
       "  <thead>\n",
       "    <tr style=\"text-align: right;\">\n",
       "      <th></th>\n",
       "      <th>Target1</th>\n",
       "      <th>Target2</th>\n",
       "    </tr>\n",
       "  </thead>\n",
       "  <tbody>\n",
       "    <tr>\n",
       "      <th>0</th>\n",
       "      <td>0</td>\n",
       "      <td>0</td>\n",
       "    </tr>\n",
       "    <tr>\n",
       "      <th>1</th>\n",
       "      <td>1</td>\n",
       "      <td>1</td>\n",
       "    </tr>\n",
       "    <tr>\n",
       "      <th>2</th>\n",
       "      <td>1</td>\n",
       "      <td>0</td>\n",
       "    </tr>\n",
       "    <tr>\n",
       "      <th>3</th>\n",
       "      <td>0</td>\n",
       "      <td>0</td>\n",
       "    </tr>\n",
       "    <tr>\n",
       "      <th>4</th>\n",
       "      <td>1</td>\n",
       "      <td>1</td>\n",
       "    </tr>\n",
       "  </tbody>\n",
       "</table>\n",
       "</div>"
      ],
      "text/plain": [
       "   Target1  Target2\n",
       "0        0        0\n",
       "1        1        1\n",
       "2        1        0\n",
       "3        0        0\n",
       "4        1        1"
      ]
     },
     "execution_count": 4,
     "metadata": {},
     "output_type": "execute_result"
    }
   ],
   "source": [
    "Targets.head()"
   ]
  },
  {
   "cell_type": "code",
   "execution_count": 5,
   "metadata": {},
   "outputs": [
    {
     "data": {
      "text/html": [
       "<div>\n",
       "<style scoped>\n",
       "    .dataframe tbody tr th:only-of-type {\n",
       "        vertical-align: middle;\n",
       "    }\n",
       "\n",
       "    .dataframe tbody tr th {\n",
       "        vertical-align: top;\n",
       "    }\n",
       "\n",
       "    .dataframe thead th {\n",
       "        text-align: right;\n",
       "    }\n",
       "</style>\n",
       "<table border=\"1\" class=\"dataframe\">\n",
       "  <thead>\n",
       "    <tr style=\"text-align: right;\">\n",
       "      <th></th>\n",
       "      <th>Date</th>\n",
       "      <th>Open</th>\n",
       "      <th>High</th>\n",
       "      <th>Low</th>\n",
       "      <th>Close</th>\n",
       "      <th>Adj_Close</th>\n",
       "      <th>Volume</th>\n",
       "      <th>SlowD</th>\n",
       "      <th>SlowK</th>\n",
       "      <th>WILLR</th>\n",
       "      <th>MACD</th>\n",
       "      <th>MACD_Signal</th>\n",
       "      <th>MACD_Hist</th>\n",
       "      <th>RSI</th>\n",
       "      <th>ADX</th>\n",
       "      <th>CCI</th>\n",
       "      <th>Chaikin A/D</th>\n",
       "      <th>OBV</th>\n",
       "    </tr>\n",
       "  </thead>\n",
       "  <tbody>\n",
       "    <tr>\n",
       "      <th>0</th>\n",
       "      <td>2000-02-17</td>\n",
       "      <td>7.80</td>\n",
       "      <td>7.86</td>\n",
       "      <td>7.46</td>\n",
       "      <td>7.50</td>\n",
       "      <td>1.4158</td>\n",
       "      <td>282000</td>\n",
       "      <td>24.1228</td>\n",
       "      <td>19.7531</td>\n",
       "      <td>-78.5000</td>\n",
       "      <td>0.7759</td>\n",
       "      <td>0.7358</td>\n",
       "      <td>0.0401</td>\n",
       "      <td>55.0398</td>\n",
       "      <td>23.2628</td>\n",
       "      <td>-50.8876</td>\n",
       "      <td>-4.788646e+06</td>\n",
       "      <td>-1112500.0</td>\n",
       "    </tr>\n",
       "    <tr>\n",
       "      <th>1</th>\n",
       "      <td>2000-02-18</td>\n",
       "      <td>7.40</td>\n",
       "      <td>7.55</td>\n",
       "      <td>6.91</td>\n",
       "      <td>7.05</td>\n",
       "      <td>1.3308</td>\n",
       "      <td>448500</td>\n",
       "      <td>20.4926</td>\n",
       "      <td>20.2658</td>\n",
       "      <td>-93.5185</td>\n",
       "      <td>0.7222</td>\n",
       "      <td>0.7331</td>\n",
       "      <td>-0.0108</td>\n",
       "      <td>51.9009</td>\n",
       "      <td>21.4223</td>\n",
       "      <td>-115.7220</td>\n",
       "      <td>-5.040927e+06</td>\n",
       "      <td>-1561000.0</td>\n",
       "    </tr>\n",
       "    <tr>\n",
       "      <th>2</th>\n",
       "      <td>2000-02-21</td>\n",
       "      <td>7.49</td>\n",
       "      <td>7.60</td>\n",
       "      <td>7.10</td>\n",
       "      <td>7.19</td>\n",
       "      <td>1.3573</td>\n",
       "      <td>360500</td>\n",
       "      <td>19.9012</td>\n",
       "      <td>19.6848</td>\n",
       "      <td>-86.3415</td>\n",
       "      <td>0.6792</td>\n",
       "      <td>0.7223</td>\n",
       "      <td>-0.0431</td>\n",
       "      <td>52.5770</td>\n",
       "      <td>19.8626</td>\n",
       "      <td>-77.4985</td>\n",
       "      <td>-5.271647e+06</td>\n",
       "      <td>-1200500.0</td>\n",
       "    </tr>\n",
       "    <tr>\n",
       "      <th>3</th>\n",
       "      <td>2000-02-22</td>\n",
       "      <td>7.44</td>\n",
       "      <td>7.50</td>\n",
       "      <td>6.70</td>\n",
       "      <td>6.92</td>\n",
       "      <td>1.3063</td>\n",
       "      <td>331500</td>\n",
       "      <td>19.4578</td>\n",
       "      <td>18.4228</td>\n",
       "      <td>-90.2655</td>\n",
       "      <td>0.6337</td>\n",
       "      <td>0.7046</td>\n",
       "      <td>-0.0709</td>\n",
       "      <td>52.1247</td>\n",
       "      <td>18.1711</td>\n",
       "      <td>-111.5418</td>\n",
       "      <td>-5.420822e+06</td>\n",
       "      <td>-1532000.0</td>\n",
       "    </tr>\n",
       "    <tr>\n",
       "      <th>4</th>\n",
       "      <td>2000-02-23</td>\n",
       "      <td>6.78</td>\n",
       "      <td>7.14</td>\n",
       "      <td>6.60</td>\n",
       "      <td>6.74</td>\n",
       "      <td>1.2723</td>\n",
       "      <td>227500</td>\n",
       "      <td>19.3192</td>\n",
       "      <td>19.8501</td>\n",
       "      <td>-94.0678</td>\n",
       "      <td>0.5382</td>\n",
       "      <td>0.6713</td>\n",
       "      <td>-0.1331</td>\n",
       "      <td>46.2850</td>\n",
       "      <td>16.8671</td>\n",
       "      <td>-119.6643</td>\n",
       "      <td>-5.530360e+06</td>\n",
       "      <td>-1759500.0</td>\n",
       "    </tr>\n",
       "  </tbody>\n",
       "</table>\n",
       "</div>"
      ],
      "text/plain": [
       "         Date  Open  High   Low  Close  Adj_Close  Volume    SlowD    SlowK  \\\n",
       "0  2000-02-17  7.80  7.86  7.46   7.50     1.4158  282000  24.1228  19.7531   \n",
       "1  2000-02-18  7.40  7.55  6.91   7.05     1.3308  448500  20.4926  20.2658   \n",
       "2  2000-02-21  7.49  7.60  7.10   7.19     1.3573  360500  19.9012  19.6848   \n",
       "3  2000-02-22  7.44  7.50  6.70   6.92     1.3063  331500  19.4578  18.4228   \n",
       "4  2000-02-23  6.78  7.14  6.60   6.74     1.2723  227500  19.3192  19.8501   \n",
       "\n",
       "     WILLR    MACD  MACD_Signal  MACD_Hist      RSI      ADX       CCI  \\\n",
       "0 -78.5000  0.7759       0.7358     0.0401  55.0398  23.2628  -50.8876   \n",
       "1 -93.5185  0.7222       0.7331    -0.0108  51.9009  21.4223 -115.7220   \n",
       "2 -86.3415  0.6792       0.7223    -0.0431  52.5770  19.8626  -77.4985   \n",
       "3 -90.2655  0.6337       0.7046    -0.0709  52.1247  18.1711 -111.5418   \n",
       "4 -94.0678  0.5382       0.6713    -0.1331  46.2850  16.8671 -119.6643   \n",
       "\n",
       "    Chaikin A/D        OBV  \n",
       "0 -4.788646e+06 -1112500.0  \n",
       "1 -5.040927e+06 -1561000.0  \n",
       "2 -5.271647e+06 -1200500.0  \n",
       "3 -5.420822e+06 -1532000.0  \n",
       "4 -5.530360e+06 -1759500.0  "
      ]
     },
     "execution_count": 5,
     "metadata": {},
     "output_type": "execute_result"
    }
   ],
   "source": [
    "#Drop the Last row\n",
    "Data = Data.drop(Data.index[len(Data)-1])\n",
    "Data.head()"
   ]
  },
  {
   "cell_type": "code",
   "execution_count": 6,
   "metadata": {},
   "outputs": [
    {
     "name": "stdout",
     "output_type": "stream",
     "text": [
      "<class 'pandas.core.frame.DataFrame'>\n",
      "Int64Index: 4575 entries, 0 to 4574\n",
      "Data columns (total 18 columns):\n",
      "Date           4575 non-null object\n",
      "Open           4575 non-null float64\n",
      "High           4575 non-null float64\n",
      "Low            4575 non-null float64\n",
      "Close          4575 non-null float64\n",
      "Adj_Close      4575 non-null float64\n",
      "Volume         4575 non-null int64\n",
      "SlowD          4575 non-null float64\n",
      "SlowK          4575 non-null float64\n",
      "WILLR          4575 non-null float64\n",
      "MACD           4575 non-null float64\n",
      "MACD_Signal    4575 non-null float64\n",
      "MACD_Hist      4575 non-null float64\n",
      "RSI            4575 non-null float64\n",
      "ADX            4575 non-null float64\n",
      "CCI            4575 non-null float64\n",
      "Chaikin A/D    4575 non-null float64\n",
      "OBV            4575 non-null float64\n",
      "dtypes: float64(16), int64(1), object(1)\n",
      "memory usage: 679.1+ KB\n"
     ]
    }
   ],
   "source": [
    "Data.info()"
   ]
  },
  {
   "cell_type": "markdown",
   "metadata": {},
   "source": [
    "#  Prediction Using TimeSeries + Technical Indicators Data"
   ]
  },
  {
   "cell_type": "markdown",
   "metadata": {},
   "source": [
    "## Predicting Target 1 [Open(i+1) - Close(i)] "
   ]
  },
  {
   "cell_type": "markdown",
   "metadata": {},
   "source": [
    "### Machine Learning Models"
   ]
  },
  {
   "cell_type": "code",
   "execution_count": 7,
   "metadata": {},
   "outputs": [],
   "source": [
    "X = Data\n",
    "X = X.drop('Date', axis = 1)\n",
    "Y = Targets['Target1']\n",
    "prediction = pd.DataFrame()\n",
    "X_train, X_test, y_train, y_test = train_test_split(X, Y, test_size=0.33, random_state = 42,shuffle='False')\n",
    "X_train = preprocessing.normalize(X_train)\n",
    "X_test =  preprocessing.normalize(X_test)"
   ]
  },
  {
   "cell_type": "markdown",
   "metadata": {},
   "source": [
    "### Decision Tree"
   ]
  },
  {
   "cell_type": "code",
   "execution_count": 8,
   "metadata": {},
   "outputs": [
    {
     "name": "stdout",
     "output_type": "stream",
     "text": [
      "Accuracy 0.5450331125827814\n",
      "             precision    recall  f1-score   support\n",
      "\n",
      "          0       0.33      0.34      0.33       507\n",
      "          1       0.66      0.65      0.66      1003\n",
      "\n",
      "avg / total       0.55      0.55      0.55      1510\n",
      "\n",
      "[[0.33530572 0.66469428]\n",
      " [0.34895314 0.65104686]]\n"
     ]
    }
   ],
   "source": [
    "from sklearn import tree\n",
    "clf = tree.DecisionTreeClassifier()\n",
    "clf = clf.fit(X_train, y_train)\n",
    "prediction['DT'] = clf.predict(X_test)\n",
    "print(\"Accuracy \"+str(accuracy_score(y_test, prediction[\"DT\"])))\n",
    "print(classification_report(y_test, prediction['DT']))\n",
    "conf_mat = confusion_matrix(y_test, prediction['DT'])\n",
    "conf_mat_normalized = conf_mat.astype('float') / conf_mat.sum(axis=1)[:, np.newaxis]\n",
    "print(conf_mat_normalized)"
   ]
  },
  {
   "cell_type": "markdown",
   "metadata": {},
   "source": [
    "### Logistic Regression"
   ]
  },
  {
   "cell_type": "code",
   "execution_count": 9,
   "metadata": {},
   "outputs": [
    {
     "name": "stdout",
     "output_type": "stream",
     "text": [
      "0.6642384105960265\n",
      "             precision    recall  f1-score   support\n",
      "\n",
      "          0       0.00      0.00      0.00       507\n",
      "          1       0.66      1.00      0.80      1003\n",
      "\n",
      "avg / total       0.44      0.66      0.53      1510\n",
      "\n",
      "[[0. 1.]\n",
      " [0. 1.]]\n"
     ]
    },
    {
     "name": "stderr",
     "output_type": "stream",
     "text": [
      "C:\\Users\\Avi\\Anaconda3\\lib\\site-packages\\sklearn\\metrics\\classification.py:1135: UndefinedMetricWarning: Precision and F-score are ill-defined and being set to 0.0 in labels with no predicted samples.\n",
      "  'precision', 'predicted', average, warn_for)\n"
     ]
    }
   ],
   "source": [
    "model = LogisticRegression()\n",
    "model.fit(X_train,y_train)\n",
    "prediction[\"LR\"] = model.predict(X_test)\n",
    "print(accuracy_score(y_test, prediction[\"LR\"]))\n",
    "print(classification_report(y_test, prediction['LR']))\n",
    "conf_mat = confusion_matrix(y_test, prediction['LR'])\n",
    "conf_mat_normalized = conf_mat.astype('float') / conf_mat.sum(axis=1)[:, np.newaxis]\n",
    "print(conf_mat_normalized)"
   ]
  },
  {
   "cell_type": "code",
   "execution_count": 11,
   "metadata": {},
   "outputs": [
    {
     "name": "stdout",
     "output_type": "stream",
     "text": [
      "0.6642384105960265\n",
      "             precision    recall  f1-score   support\n",
      "\n",
      "          0       0.00      0.00      0.00       507\n",
      "          1       0.66      1.00      0.80      1003\n",
      "\n",
      "avg / total       0.44      0.66      0.53      1510\n",
      "\n",
      "[[0. 1.]\n",
      " [0. 1.]]\n"
     ]
    },
    {
     "name": "stderr",
     "output_type": "stream",
     "text": [
      "C:\\Users\\Avi\\Anaconda3\\lib\\site-packages\\sklearn\\metrics\\classification.py:1135: UndefinedMetricWarning: Precision and F-score are ill-defined and being set to 0.0 in labels with no predicted samples.\n",
      "  'precision', 'predicted', average, warn_for)\n"
     ]
    }
   ],
   "source": [
    "# Support Vector Machine(SVM)\n",
    "model = svm.SVC()\n",
    "model.fit(X_train, y_train)  \n",
    "prediction[\"SVM\"] = model.predict(X_test)\n",
    "print(accuracy_score(y_test, prediction[\"SVM\"]))\n",
    "print(classification_report(y_test, prediction['SVM']))\n",
    "conf_mat = confusion_matrix(y_test, prediction['SVM'])\n",
    "conf_mat_normalized = conf_mat.astype('float') / conf_mat.sum(axis=1)[:, np.newaxis]\n",
    "print(conf_mat_normalized)"
   ]
  },
  {
   "cell_type": "markdown",
   "metadata": {},
   "source": [
    "### K Nearest Neighbours(KNN)"
   ]
  },
  {
   "cell_type": "code",
   "execution_count": 13,
   "metadata": {},
   "outputs": [
    {
     "name": "stdout",
     "output_type": "stream",
     "text": [
      "KNeighborsClassifier(algorithm='auto', leaf_size=30, metric='minkowski',\n",
      "           metric_params=None, n_jobs=1, n_neighbors=3, p=2,\n",
      "           weights='uniform')\n",
      "Accuracy : 0.5874172185430464\n",
      "             precision    recall  f1-score   support\n",
      "\n",
      "          0       0.35      0.27      0.30       507\n",
      "          1       0.67      0.75      0.71      1003\n",
      "\n",
      "avg / total       0.56      0.59      0.57      1510\n",
      "\n",
      "[[0.26627219 0.73372781]\n",
      " [0.25024925 0.74975075]]\n"
     ]
    }
   ],
   "source": [
    "model = KNeighborsClassifier(n_neighbors=3)\n",
    "print(model.fit(X_train,y_train))\n",
    "prediction[\"KNN\"] = model.predict(X_test)\n",
    "print(\"Accuracy : \" + str(accuracy_score(y_test, prediction[\"KNN\"])))\n",
    "print(classification_report(y_test, prediction['KNN']))\n",
    "conf_mat = confusion_matrix(y_test, prediction['KNN'])\n",
    "conf_mat_normalized = conf_mat.astype('float') / conf_mat.sum(axis=1)[:, np.newaxis]\n",
    "print(conf_mat_normalized)"
   ]
  },
  {
   "cell_type": "markdown",
   "metadata": {},
   "source": [
    "### Random Forest Classifier"
   ]
  },
  {
   "cell_type": "code",
   "execution_count": 14,
   "metadata": {},
   "outputs": [
    {
     "name": "stdout",
     "output_type": "stream",
     "text": [
      "RandomForestClassifier(bootstrap=True, class_weight=None, criterion='gini',\n",
      "            max_depth=None, max_features='auto', max_leaf_nodes=None,\n",
      "            min_impurity_decrease=0.0, min_impurity_split=None,\n",
      "            min_samples_leaf=1, min_samples_split=2,\n",
      "            min_weight_fraction_leaf=0.0, n_estimators=100, n_jobs=1,\n",
      "            oob_score=False, random_state=None, verbose=0,\n",
      "            warm_start=False)\n",
      "0.6642384105960265\n",
      "             precision    recall  f1-score   support\n",
      "\n",
      "          0       0.50      0.06      0.10       507\n",
      "          1       0.67      0.97      0.79      1003\n",
      "\n",
      "avg / total       0.61      0.66      0.56      1510\n",
      "\n",
      "[[0.05719921 0.94280079]\n",
      " [0.02891326 0.97108674]]\n"
     ]
    }
   ],
   "source": [
    "rf = RandomForestClassifier(n_estimators=100)\n",
    "print(rf.fit(X_train, y_train))\n",
    "prediction[\"Random Forest Classifier\"] = rf.predict(X_test)\n",
    "print(accuracy_score(y_test, prediction[\"Random Forest Classifier\"]))\n",
    "print(classification_report(y_test, prediction['Random Forest Classifier']))\n",
    "conf_mat = confusion_matrix(y_test, prediction['Random Forest Classifier'])\n",
    "conf_mat_normalized = conf_mat.astype('float') / conf_mat.sum(axis=1)[:, np.newaxis]\n",
    "print(conf_mat_normalized)"
   ]
  },
  {
   "cell_type": "markdown",
   "metadata": {},
   "source": [
    "### ADA Boost Classifier"
   ]
  },
  {
   "cell_type": "code",
   "execution_count": 15,
   "metadata": {},
   "outputs": [
    {
     "name": "stdout",
     "output_type": "stream",
     "text": [
      "AdaBoostClassifier(algorithm='SAMME.R', base_estimator=None,\n",
      "          learning_rate=1.0, n_estimators=50, random_state=None)\n",
      "0.6655629139072847\n",
      "             precision    recall  f1-score   support\n",
      "\n",
      "          0       0.53      0.04      0.08       507\n",
      "          1       0.67      0.98      0.80      1003\n",
      "\n",
      "avg / total       0.62      0.67      0.55      1510\n",
      "\n",
      "[[0.04142012 0.95857988]\n",
      " [0.01894317 0.98105683]]\n"
     ]
    }
   ],
   "source": [
    "model = AdaBoostClassifier()\n",
    "print(model.fit(X_train,y_train))\n",
    "prediction[\"ADA\"] = model.predict(X_test)\n",
    "print(accuracy_score(y_test, prediction[\"ADA\"]))\n",
    "print(classification_report(y_test, prediction['ADA']))\n",
    "conf_mat = confusion_matrix(y_test, prediction['ADA'])\n",
    "conf_mat_normalized = conf_mat.astype('float') / conf_mat.sum(axis=1)[:, np.newaxis]\n",
    "print(conf_mat_normalized)"
   ]
  },
  {
   "cell_type": "markdown",
   "metadata": {},
   "source": [
    "## Predicting Target 2 [Open(i+1) - Open(i)] "
   ]
  },
  {
   "cell_type": "markdown",
   "metadata": {},
   "source": [
    "### Machine Learning Models"
   ]
  },
  {
   "cell_type": "code",
   "execution_count": 16,
   "metadata": {},
   "outputs": [],
   "source": [
    "X = Data\n",
    "X = X.drop('Date', axis = 1)\n",
    "Y = Targets['Target2']\n",
    "prediction = pd.DataFrame()\n",
    "X_train, X_test, y_train, y_test = train_test_split(X, Y, test_size=0.33, random_state = 42,shuffle='False')\n",
    "X_train = preprocessing.normalize(X_train)\n",
    "X_test =  preprocessing.normalize(X_test)"
   ]
  },
  {
   "cell_type": "markdown",
   "metadata": {},
   "source": [
    "### Decision Tree"
   ]
  },
  {
   "cell_type": "code",
   "execution_count": 17,
   "metadata": {},
   "outputs": [
    {
     "name": "stdout",
     "output_type": "stream",
     "text": [
      "Accuracy 0.49271523178807947\n",
      "             precision    recall  f1-score   support\n",
      "\n",
      "          0       0.46      0.48      0.47       711\n",
      "          1       0.52      0.50      0.51       799\n",
      "\n",
      "avg / total       0.49      0.49      0.49      1510\n",
      "\n",
      "[[0.47960619 0.52039381]\n",
      " [0.49561952 0.50438048]]\n"
     ]
    }
   ],
   "source": [
    "from sklearn import tree\n",
    "clf = tree.DecisionTreeClassifier()\n",
    "clf = clf.fit(X_train, y_train)\n",
    "prediction['DT'] = clf.predict(X_test)\n",
    "print(\"Accuracy \"+str(accuracy_score(y_test, prediction[\"DT\"])))\n",
    "print(classification_report(y_test, prediction['DT']))\n",
    "conf_mat = confusion_matrix(y_test, prediction['DT'])\n",
    "conf_mat_normalized = conf_mat.astype('float') / conf_mat.sum(axis=1)[:, np.newaxis]\n",
    "print(conf_mat_normalized)"
   ]
  },
  {
   "cell_type": "markdown",
   "metadata": {},
   "source": [
    "### Logistic Regression"
   ]
  },
  {
   "cell_type": "code",
   "execution_count": 18,
   "metadata": {},
   "outputs": [
    {
     "name": "stdout",
     "output_type": "stream",
     "text": [
      "0.5099337748344371\n",
      "             precision    recall  f1-score   support\n",
      "\n",
      "          0       0.46      0.23      0.30       711\n",
      "          1       0.53      0.76      0.62       799\n",
      "\n",
      "avg / total       0.49      0.51      0.47      1510\n",
      "\n",
      "[[0.22644163 0.77355837]\n",
      " [0.23779725 0.76220275]]\n"
     ]
    }
   ],
   "source": [
    "model = LogisticRegression()\n",
    "model.fit(X_train,y_train)\n",
    "prediction[\"LR\"] = model.predict(X_test)\n",
    "print(accuracy_score(y_test, prediction[\"LR\"]))\n",
    "print(classification_report(y_test, prediction['LR']))\n",
    "conf_mat = confusion_matrix(y_test, prediction['LR'])\n",
    "conf_mat_normalized = conf_mat.astype('float') / conf_mat.sum(axis=1)[:, np.newaxis]\n",
    "print(conf_mat_normalized)"
   ]
  },
  {
   "cell_type": "code",
   "execution_count": 20,
   "metadata": {},
   "outputs": [
    {
     "name": "stdout",
     "output_type": "stream",
     "text": [
      "0.5291390728476821\n",
      "             precision    recall  f1-score   support\n",
      "\n",
      "          0       0.00      0.00      0.00       711\n",
      "          1       0.53      1.00      0.69       799\n",
      "\n",
      "avg / total       0.28      0.53      0.37      1510\n",
      "\n",
      "[[0. 1.]\n",
      " [0. 1.]]\n"
     ]
    },
    {
     "name": "stderr",
     "output_type": "stream",
     "text": [
      "C:\\Users\\Avi\\Anaconda3\\lib\\site-packages\\sklearn\\metrics\\classification.py:1135: UndefinedMetricWarning: Precision and F-score are ill-defined and being set to 0.0 in labels with no predicted samples.\n",
      "  'precision', 'predicted', average, warn_for)\n"
     ]
    }
   ],
   "source": [
    "# # Support Vector Machine(SVM)\n",
    "\n",
    "model = svm.SVC()\n",
    "model.fit(X_train, y_train)  \n",
    "\n",
    "prediction[\"SVM\"] = model.predict(X_test)\n",
    "\n",
    "print(accuracy_score(y_test, prediction[\"SVM\"]))\n",
    "\n",
    "print(classification_report(y_test, prediction['SVM']))\n",
    "\n",
    "conf_mat = confusion_matrix(y_test, prediction['SVM'])\n",
    "conf_mat_normalized = conf_mat.astype('float') / conf_mat.sum(axis=1)[:, np.newaxis]\n",
    "print(conf_mat_normalized)"
   ]
  },
  {
   "cell_type": "markdown",
   "metadata": {},
   "source": [
    "### K Nearest Neighbours(KNN)"
   ]
  },
  {
   "cell_type": "code",
   "execution_count": 21,
   "metadata": {},
   "outputs": [
    {
     "name": "stdout",
     "output_type": "stream",
     "text": [
      "KNeighborsClassifier(algorithm='auto', leaf_size=30, metric='minkowski',\n",
      "           metric_params=None, n_jobs=1, n_neighbors=3, p=2,\n",
      "           weights='uniform')\n",
      "Accuracy : 0.4735099337748344\n",
      "             precision    recall  f1-score   support\n",
      "\n",
      "          0       0.44      0.45      0.44       711\n",
      "          1       0.50      0.50      0.50       799\n",
      "\n",
      "avg / total       0.47      0.47      0.47      1510\n",
      "\n",
      "[[0.44725738 0.55274262]\n",
      " [0.50312891 0.49687109]]\n"
     ]
    }
   ],
   "source": [
    "model = KNeighborsClassifier(n_neighbors=3)\n",
    "print(model.fit(X_train,y_train))\n",
    "prediction[\"KNN\"] = model.predict(X_test)\n",
    "print(\"Accuracy : \" + str(accuracy_score(y_test, prediction[\"KNN\"])))\n",
    "print(classification_report(y_test, prediction['KNN']))\n",
    "conf_mat = confusion_matrix(y_test, prediction['KNN'])\n",
    "conf_mat_normalized = conf_mat.astype('float') / conf_mat.sum(axis=1)[:, np.newaxis]\n",
    "print(conf_mat_normalized)"
   ]
  },
  {
   "cell_type": "markdown",
   "metadata": {},
   "source": [
    "### Random Forest Classifier"
   ]
  },
  {
   "cell_type": "code",
   "execution_count": 25,
   "metadata": {},
   "outputs": [
    {
     "name": "stdout",
     "output_type": "stream",
     "text": [
      "RandomForestClassifier(bootstrap=True, class_weight=None, criterion='gini',\n",
      "            max_depth=None, max_features='auto', max_leaf_nodes=None,\n",
      "            min_impurity_decrease=0.0, min_impurity_split=None,\n",
      "            min_samples_leaf=1, min_samples_split=2,\n",
      "            min_weight_fraction_leaf=0.0, n_estimators=100, n_jobs=1,\n",
      "            oob_score=False, random_state=None, verbose=0,\n",
      "            warm_start=False)\n",
      "0.7165562913907285\n",
      "             precision    recall  f1-score   support\n",
      "\n",
      "          0       0.69      0.71      0.70       711\n",
      "          1       0.74      0.72      0.73       799\n",
      "\n",
      "avg / total       0.72      0.72      0.72      1510\n",
      "\n",
      "[[0.71448664 0.28551336]\n",
      " [0.281602   0.718398  ]]\n"
     ]
    }
   ],
   "source": [
    "rf = RandomForestClassifier(n_estimators=100)\n",
    "print(rf.fit(X_train, y_train))\n",
    "prediction[\"Random Forest Classifier\"] = rf.predict(X_test)\n",
    "print(accuracy_score(y_test, prediction[\"Random Forest Classifier\"]))\n",
    "print(classification_report(y_test, prediction['Random Forest Classifier']))\n",
    "conf_mat = confusion_matrix(y_test, prediction['Random Forest Classifier'])\n",
    "conf_mat_normalized = conf_mat.astype('float') / conf_mat.sum(axis=1)[:, np.newaxis]\n",
    "print(conf_mat_normalized)"
   ]
  },
  {
   "cell_type": "markdown",
   "metadata": {},
   "source": [
    "### ADA Boost Classifier"
   ]
  },
  {
   "cell_type": "code",
   "execution_count": 26,
   "metadata": {},
   "outputs": [
    {
     "name": "stdout",
     "output_type": "stream",
     "text": [
      "AdaBoostClassifier(algorithm='SAMME.R', base_estimator=None,\n",
      "          learning_rate=1.0, n_estimators=50, random_state=None)\n",
      "0.7185430463576159\n",
      "             precision    recall  f1-score   support\n",
      "\n",
      "          0       0.70      0.70      0.70       711\n",
      "          1       0.73      0.74      0.73       799\n",
      "\n",
      "avg / total       0.72      0.72      0.72      1510\n",
      "\n",
      "[[0.697609   0.302391  ]\n",
      " [0.26282854 0.73717146]]\n"
     ]
    }
   ],
   "source": [
    "model = AdaBoostClassifier()\n",
    "print(model.fit(X_train,y_train))\n",
    "prediction[\"ADA\"] = model.predict(X_test)\n",
    "print(accuracy_score(y_test, prediction[\"ADA\"]))\n",
    "print(classification_report(y_test, prediction['ADA']))\n",
    "conf_mat = confusion_matrix(y_test, prediction['ADA'])\n",
    "conf_mat_normalized = conf_mat.astype('float') / conf_mat.sum(axis=1)[:, np.newaxis]\n",
    "print(conf_mat_normalized)"
   ]
  },
  {
   "cell_type": "code",
   "execution_count": null,
   "metadata": {},
   "outputs": [],
   "source": []
  }
 ],
 "metadata": {
  "kernelspec": {
   "display_name": "Python 3",
   "language": "python",
   "name": "python3"
  },
  "language_info": {
   "codemirror_mode": {
    "name": "ipython",
    "version": 3
   },
   "file_extension": ".py",
   "mimetype": "text/x-python",
   "name": "python",
   "nbconvert_exporter": "python",
   "pygments_lexer": "ipython3",
   "version": "3.6.4"
  }
 },
 "nbformat": 4,
 "nbformat_minor": 2
}
