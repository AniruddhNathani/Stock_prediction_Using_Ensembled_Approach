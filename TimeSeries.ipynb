{
 "cells": [
  {
   "cell_type": "code",
   "execution_count": 5,
   "metadata": {},
   "outputs": [],
   "source": [
    "import pandas as pd\n",
    "import numpy as np\n",
    "import matplotlib.pyplot as plt\n",
    "import seaborn as sns\n",
    "from sklearn.model_selection import train_test_split\n",
    "from sklearn.metrics import accuracy_score,confusion_matrix,classification_report\n",
    "from sklearn.linear_model import LogisticRegression\n",
    "from sklearn import svm\n",
    "from sklearn.neighbors import KNeighborsClassifier\n",
    "from sklearn.ensemble import RandomForestClassifier\n",
    "from sklearn.ensemble import AdaBoostClassifier\n",
    "from sklearn import preprocessing"
   ]
  },
  {
   "cell_type": "code",
   "execution_count": 6,
   "metadata": {},
   "outputs": [
    {
     "data": {
      "text/html": [
       "<div>\n",
       "<style scoped>\n",
       "    .dataframe tbody tr th:only-of-type {\n",
       "        vertical-align: middle;\n",
       "    }\n",
       "\n",
       "    .dataframe tbody tr th {\n",
       "        vertical-align: top;\n",
       "    }\n",
       "\n",
       "    .dataframe thead th {\n",
       "        text-align: right;\n",
       "    }\n",
       "</style>\n",
       "<table border=\"1\" class=\"dataframe\">\n",
       "  <thead>\n",
       "    <tr style=\"text-align: right;\">\n",
       "      <th></th>\n",
       "      <th>Date</th>\n",
       "      <th>Open</th>\n",
       "      <th>High</th>\n",
       "      <th>Low</th>\n",
       "      <th>Close</th>\n",
       "      <th>Adj_Close</th>\n",
       "      <th>Volume</th>\n",
       "    </tr>\n",
       "  </thead>\n",
       "  <tbody>\n",
       "    <tr>\n",
       "      <th>0</th>\n",
       "      <td>2000-01-03</td>\n",
       "      <td>5.10</td>\n",
       "      <td>5.18</td>\n",
       "      <td>5.10</td>\n",
       "      <td>5.18</td>\n",
       "      <td>0.9778</td>\n",
       "      <td>82500</td>\n",
       "    </tr>\n",
       "    <tr>\n",
       "      <th>1</th>\n",
       "      <td>2000-01-04</td>\n",
       "      <td>5.40</td>\n",
       "      <td>5.51</td>\n",
       "      <td>5.08</td>\n",
       "      <td>5.38</td>\n",
       "      <td>1.0156</td>\n",
       "      <td>494000</td>\n",
       "    </tr>\n",
       "    <tr>\n",
       "      <th>2</th>\n",
       "      <td>2000-01-05</td>\n",
       "      <td>5.01</td>\n",
       "      <td>5.42</td>\n",
       "      <td>5.00</td>\n",
       "      <td>5.24</td>\n",
       "      <td>0.9892</td>\n",
       "      <td>383000</td>\n",
       "    </tr>\n",
       "    <tr>\n",
       "      <th>3</th>\n",
       "      <td>2000-01-06</td>\n",
       "      <td>5.30</td>\n",
       "      <td>5.30</td>\n",
       "      <td>5.00</td>\n",
       "      <td>5.11</td>\n",
       "      <td>0.9646</td>\n",
       "      <td>164500</td>\n",
       "    </tr>\n",
       "    <tr>\n",
       "      <th>4</th>\n",
       "      <td>2000-01-07</td>\n",
       "      <td>5.00</td>\n",
       "      <td>5.22</td>\n",
       "      <td>4.80</td>\n",
       "      <td>4.86</td>\n",
       "      <td>0.9174</td>\n",
       "      <td>149000</td>\n",
       "    </tr>\n",
       "  </tbody>\n",
       "</table>\n",
       "</div>"
      ],
      "text/plain": [
       "         Date  Open  High   Low  Close  Adj_Close  Volume\n",
       "0  2000-01-03  5.10  5.18  5.10   5.18     0.9778   82500\n",
       "1  2000-01-04  5.40  5.51  5.08   5.38     1.0156  494000\n",
       "2  2000-01-05  5.01  5.42  5.00   5.24     0.9892  383000\n",
       "3  2000-01-06  5.30  5.30  5.00   5.11     0.9646  164500\n",
       "4  2000-01-07  5.00  5.22  4.80   4.86     0.9174  149000"
      ]
     },
     "execution_count": 6,
     "metadata": {},
     "output_type": "execute_result"
    }
   ],
   "source": [
    "Data = pd.read_csv('AxisBankwTs.csv', index_col = None)\n",
    "Data = Data.drop(['Unnamed: 0'], axis =1)\n",
    "Data.head()"
   ]
  },
  {
   "cell_type": "markdown",
   "metadata": {},
   "source": [
    "# Creating Targets"
   ]
  },
  {
   "cell_type": "code",
   "execution_count": 7,
   "metadata": {},
   "outputs": [],
   "source": [
    "Targets = pd.DataFrame()\n",
    "\n",
    "Target1=[]\n",
    "for i in range(0,len(Data['Open'])-1):\n",
    "    if(Data.loc[i+1]['Open']-Data.loc[i]['Close']>=0):\n",
    "        Target1.append(1)\n",
    "    else:\n",
    "        Target1.append(0)\n",
    "Targets['Target1']=pd.Series(Target1)\n",
    "\n",
    "Target2=[]\n",
    "for i in range(0,len(Data['Open'])-1):\n",
    "    if(Data.loc[i+1]['Open']-Data.loc[i]['Open']>=0):\n",
    "        Target2.append(1)\n",
    "    else:\n",
    "        Target2.append(0)\n",
    "Targets['Target2']=pd.Series(Target2)"
   ]
  },
  {
   "cell_type": "code",
   "execution_count": 8,
   "metadata": {},
   "outputs": [
    {
     "data": {
      "text/html": [
       "<div>\n",
       "<style scoped>\n",
       "    .dataframe tbody tr th:only-of-type {\n",
       "        vertical-align: middle;\n",
       "    }\n",
       "\n",
       "    .dataframe tbody tr th {\n",
       "        vertical-align: top;\n",
       "    }\n",
       "\n",
       "    .dataframe thead th {\n",
       "        text-align: right;\n",
       "    }\n",
       "</style>\n",
       "<table border=\"1\" class=\"dataframe\">\n",
       "  <thead>\n",
       "    <tr style=\"text-align: right;\">\n",
       "      <th></th>\n",
       "      <th>Target1</th>\n",
       "      <th>Target2</th>\n",
       "    </tr>\n",
       "  </thead>\n",
       "  <tbody>\n",
       "    <tr>\n",
       "      <th>0</th>\n",
       "      <td>1</td>\n",
       "      <td>1</td>\n",
       "    </tr>\n",
       "    <tr>\n",
       "      <th>1</th>\n",
       "      <td>0</td>\n",
       "      <td>0</td>\n",
       "    </tr>\n",
       "    <tr>\n",
       "      <th>2</th>\n",
       "      <td>1</td>\n",
       "      <td>1</td>\n",
       "    </tr>\n",
       "    <tr>\n",
       "      <th>3</th>\n",
       "      <td>0</td>\n",
       "      <td>0</td>\n",
       "    </tr>\n",
       "    <tr>\n",
       "      <th>4</th>\n",
       "      <td>1</td>\n",
       "      <td>1</td>\n",
       "    </tr>\n",
       "  </tbody>\n",
       "</table>\n",
       "</div>"
      ],
      "text/plain": [
       "   Target1  Target2\n",
       "0        1        1\n",
       "1        0        0\n",
       "2        1        1\n",
       "3        0        0\n",
       "4        1        1"
      ]
     },
     "execution_count": 8,
     "metadata": {},
     "output_type": "execute_result"
    }
   ],
   "source": [
    "Targets.head()"
   ]
  },
  {
   "cell_type": "code",
   "execution_count": 9,
   "metadata": {},
   "outputs": [
    {
     "data": {
      "text/html": [
       "<div>\n",
       "<style scoped>\n",
       "    .dataframe tbody tr th:only-of-type {\n",
       "        vertical-align: middle;\n",
       "    }\n",
       "\n",
       "    .dataframe tbody tr th {\n",
       "        vertical-align: top;\n",
       "    }\n",
       "\n",
       "    .dataframe thead th {\n",
       "        text-align: right;\n",
       "    }\n",
       "</style>\n",
       "<table border=\"1\" class=\"dataframe\">\n",
       "  <thead>\n",
       "    <tr style=\"text-align: right;\">\n",
       "      <th></th>\n",
       "      <th>Date</th>\n",
       "      <th>Open</th>\n",
       "      <th>High</th>\n",
       "      <th>Low</th>\n",
       "      <th>Close</th>\n",
       "      <th>Adj_Close</th>\n",
       "      <th>Volume</th>\n",
       "    </tr>\n",
       "  </thead>\n",
       "  <tbody>\n",
       "    <tr>\n",
       "      <th>0</th>\n",
       "      <td>2000-01-03</td>\n",
       "      <td>5.10</td>\n",
       "      <td>5.18</td>\n",
       "      <td>5.10</td>\n",
       "      <td>5.18</td>\n",
       "      <td>0.9778</td>\n",
       "      <td>82500</td>\n",
       "    </tr>\n",
       "    <tr>\n",
       "      <th>1</th>\n",
       "      <td>2000-01-04</td>\n",
       "      <td>5.40</td>\n",
       "      <td>5.51</td>\n",
       "      <td>5.08</td>\n",
       "      <td>5.38</td>\n",
       "      <td>1.0156</td>\n",
       "      <td>494000</td>\n",
       "    </tr>\n",
       "    <tr>\n",
       "      <th>2</th>\n",
       "      <td>2000-01-05</td>\n",
       "      <td>5.01</td>\n",
       "      <td>5.42</td>\n",
       "      <td>5.00</td>\n",
       "      <td>5.24</td>\n",
       "      <td>0.9892</td>\n",
       "      <td>383000</td>\n",
       "    </tr>\n",
       "    <tr>\n",
       "      <th>3</th>\n",
       "      <td>2000-01-06</td>\n",
       "      <td>5.30</td>\n",
       "      <td>5.30</td>\n",
       "      <td>5.00</td>\n",
       "      <td>5.11</td>\n",
       "      <td>0.9646</td>\n",
       "      <td>164500</td>\n",
       "    </tr>\n",
       "    <tr>\n",
       "      <th>4</th>\n",
       "      <td>2000-01-07</td>\n",
       "      <td>5.00</td>\n",
       "      <td>5.22</td>\n",
       "      <td>4.80</td>\n",
       "      <td>4.86</td>\n",
       "      <td>0.9174</td>\n",
       "      <td>149000</td>\n",
       "    </tr>\n",
       "  </tbody>\n",
       "</table>\n",
       "</div>"
      ],
      "text/plain": [
       "         Date  Open  High   Low  Close  Adj_Close  Volume\n",
       "0  2000-01-03  5.10  5.18  5.10   5.18     0.9778   82500\n",
       "1  2000-01-04  5.40  5.51  5.08   5.38     1.0156  494000\n",
       "2  2000-01-05  5.01  5.42  5.00   5.24     0.9892  383000\n",
       "3  2000-01-06  5.30  5.30  5.00   5.11     0.9646  164500\n",
       "4  2000-01-07  5.00  5.22  4.80   4.86     0.9174  149000"
      ]
     },
     "execution_count": 9,
     "metadata": {},
     "output_type": "execute_result"
    }
   ],
   "source": [
    "#Drop the Last row\n",
    "Data = Data.drop(Data.index[len(Data)-1])\n",
    "Data.head()"
   ]
  },
  {
   "cell_type": "code",
   "execution_count": 10,
   "metadata": {},
   "outputs": [
    {
     "name": "stdout",
     "output_type": "stream",
     "text": [
      "<class 'pandas.core.frame.DataFrame'>\n",
      "Int64Index: 4616 entries, 0 to 4615\n",
      "Data columns (total 7 columns):\n",
      "Date         4616 non-null object\n",
      "Open         4616 non-null float64\n",
      "High         4616 non-null float64\n",
      "Low          4616 non-null float64\n",
      "Close        4616 non-null float64\n",
      "Adj_Close    4616 non-null float64\n",
      "Volume       4616 non-null int64\n",
      "dtypes: float64(5), int64(1), object(1)\n",
      "memory usage: 288.5+ KB\n"
     ]
    }
   ],
   "source": [
    "Data.info()"
   ]
  },
  {
   "cell_type": "markdown",
   "metadata": {},
   "source": [
    "#  Prediction Using TimeSeries Data"
   ]
  },
  {
   "cell_type": "markdown",
   "metadata": {},
   "source": [
    "## Predicting Target 1 [Open(i+1) - Close(i)] "
   ]
  },
  {
   "cell_type": "markdown",
   "metadata": {},
   "source": [
    "### Machine Learning Models"
   ]
  },
  {
   "cell_type": "code",
   "execution_count": 11,
   "metadata": {},
   "outputs": [],
   "source": [
    "X = Data\n",
    "X = X.drop('Date', axis = 1)\n",
    "Y = Targets['Target1']\n",
    "prediction = pd.DataFrame()\n",
    "X_train, X_test, y_train, y_test = train_test_split(X, Y, test_size=0.6, random_state = 2,shuffle='True')\n",
    "X_train = preprocessing.normalize(X_train)\n",
    "X_test =  preprocessing.normalize(X_test)"
   ]
  },
  {
   "cell_type": "markdown",
   "metadata": {},
   "source": [
    "### Decision Tree"
   ]
  },
  {
   "cell_type": "code",
   "execution_count": 12,
   "metadata": {},
   "outputs": [
    {
     "name": "stdout",
     "output_type": "stream",
     "text": [
      "Accuracy 0.5740072202166066\n",
      "             precision    recall  f1-score   support\n",
      "\n",
      "          0       0.35      0.37      0.36       900\n",
      "          1       0.69      0.67      0.68      1870\n",
      "\n",
      "avg / total       0.58      0.57      0.58      2770\n",
      "\n",
      "[[0.37333333 0.62666667]\n",
      " [0.32941176 0.67058824]]\n"
     ]
    }
   ],
   "source": [
    "from sklearn import tree\n",
    "clf = tree.DecisionTreeClassifier()\n",
    "clf = clf.fit(X_train, y_train)\n",
    "prediction['DT'] = clf.predict(X_test)\n",
    "print(\"Accuracy \"+str(accuracy_score(y_test, prediction[\"DT\"])))\n",
    "print(classification_report(y_test, prediction['DT']))\n",
    "conf_mat = confusion_matrix(y_test, prediction['DT'])\n",
    "conf_mat_normalized = conf_mat.astype('float') / conf_mat.sum(axis=1)[:, np.newaxis]\n",
    "print(conf_mat_normalized)"
   ]
  },
  {
   "cell_type": "markdown",
   "metadata": {},
   "source": [
    "### Logistic Regression"
   ]
  },
  {
   "cell_type": "code",
   "execution_count": 13,
   "metadata": {},
   "outputs": [
    {
     "name": "stdout",
     "output_type": "stream",
     "text": [
      "0.6750902527075813\n",
      "             precision    recall  f1-score   support\n",
      "\n",
      "          0       0.00      0.00      0.00       900\n",
      "          1       0.68      1.00      0.81      1870\n",
      "\n",
      "avg / total       0.46      0.68      0.54      2770\n",
      "\n",
      "[[0. 1.]\n",
      " [0. 1.]]\n"
     ]
    },
    {
     "name": "stderr",
     "output_type": "stream",
     "text": [
      "C:\\ProgramData\\Anaconda3\\lib\\site-packages\\sklearn\\metrics\\classification.py:1135: UndefinedMetricWarning: Precision and F-score are ill-defined and being set to 0.0 in labels with no predicted samples.\n",
      "  'precision', 'predicted', average, warn_for)\n"
     ]
    }
   ],
   "source": [
    "model = LogisticRegression()\n",
    "model.fit(X_train,y_train)\n",
    "prediction[\"LR\"] = model.predict(X_test)\n",
    "print(accuracy_score(y_test, prediction[\"LR\"]))\n",
    "print(classification_report(y_test, prediction['LR']))\n",
    "conf_mat = confusion_matrix(y_test, prediction['LR'])\n",
    "conf_mat_normalized = conf_mat.astype('float') / conf_mat.sum(axis=1)[:, np.newaxis]\n",
    "print(conf_mat_normalized)"
   ]
  },
  {
   "cell_type": "code",
   "execution_count": 14,
   "metadata": {},
   "outputs": [
    {
     "name": "stdout",
     "output_type": "stream",
     "text": [
      "0.6750902527075813\n",
      "             precision    recall  f1-score   support\n",
      "\n",
      "          0       0.00      0.00      0.00       900\n",
      "          1       0.68      1.00      0.81      1870\n",
      "\n",
      "avg / total       0.46      0.68      0.54      2770\n",
      "\n",
      "[[0. 1.]\n",
      " [0. 1.]]\n"
     ]
    },
    {
     "name": "stderr",
     "output_type": "stream",
     "text": [
      "C:\\ProgramData\\Anaconda3\\lib\\site-packages\\sklearn\\metrics\\classification.py:1135: UndefinedMetricWarning: Precision and F-score are ill-defined and being set to 0.0 in labels with no predicted samples.\n",
      "  'precision', 'predicted', average, warn_for)\n"
     ]
    }
   ],
   "source": [
    "# # Support Vector Machine(SVM)\n",
    "\n",
    "model = svm.SVC()\n",
    "model.fit(X_train, y_train)  \n",
    "\n",
    "prediction[\"SVM\"] = model.predict(X_test)\n",
    "\n",
    "print(accuracy_score(y_test, prediction[\"SVM\"]))\n",
    "\n",
    "print(classification_report(y_test, prediction['SVM']))\n",
    "\n",
    "conf_mat = confusion_matrix(y_test, prediction['SVM'])\n",
    "conf_mat_normalized = conf_mat.astype('float') / conf_mat.sum(axis=1)[:, np.newaxis]\n",
    "print(conf_mat_normalized)"
   ]
  },
  {
   "cell_type": "markdown",
   "metadata": {},
   "source": [
    "### K Nearest Neighbours(KNN)"
   ]
  },
  {
   "cell_type": "code",
   "execution_count": 15,
   "metadata": {},
   "outputs": [
    {
     "name": "stdout",
     "output_type": "stream",
     "text": [
      "KNeighborsClassifier(algorithm='auto', leaf_size=30, metric='minkowski',\n",
      "           metric_params=None, n_jobs=1, n_neighbors=3, p=2,\n",
      "           weights='uniform')\n",
      "Accuracy : 0.5902527075812274\n",
      "             precision    recall  f1-score   support\n",
      "\n",
      "          0       0.36      0.32      0.34       900\n",
      "          1       0.69      0.72      0.70      1870\n",
      "\n",
      "avg / total       0.58      0.59      0.58      2770\n",
      "\n",
      "[[0.32111111 0.67888889]\n",
      " [0.2802139  0.7197861 ]]\n"
     ]
    }
   ],
   "source": [
    "model = KNeighborsClassifier(n_neighbors=3)\n",
    "print(model.fit(X_train,y_train))\n",
    "prediction[\"KNN\"] = model.predict(X_test)\n",
    "print(\"Accuracy : \" + str(accuracy_score(y_test, prediction[\"KNN\"])))\n",
    "print(classification_report(y_test, prediction['KNN']))\n",
    "conf_mat = confusion_matrix(y_test, prediction['KNN'])\n",
    "conf_mat_normalized = conf_mat.astype('float') / conf_mat.sum(axis=1)[:, np.newaxis]\n",
    "print(conf_mat_normalized)"
   ]
  },
  {
   "cell_type": "markdown",
   "metadata": {},
   "source": [
    "### Random Forest Classifier"
   ]
  },
  {
   "cell_type": "code",
   "execution_count": 16,
   "metadata": {},
   "outputs": [
    {
     "name": "stdout",
     "output_type": "stream",
     "text": [
      "RandomForestClassifier(bootstrap=True, class_weight=None, criterion='gini',\n",
      "            max_depth=None, max_features='auto', max_leaf_nodes=None,\n",
      "            min_impurity_decrease=0.0, min_impurity_split=None,\n",
      "            min_samples_leaf=1, min_samples_split=2,\n",
      "            min_weight_fraction_leaf=0.0, n_estimators=100, n_jobs=1,\n",
      "            oob_score=False, random_state=None, verbose=0,\n",
      "            warm_start=False)\n",
      "0.607942238267148\n",
      "             precision    recall  f1-score   support\n",
      "\n",
      "          0       0.36      0.27      0.31       900\n",
      "          1       0.69      0.77      0.73      1870\n",
      "\n",
      "avg / total       0.58      0.61      0.59      2770\n",
      "\n",
      "[[0.27444444 0.72555556]\n",
      " [0.2315508  0.7684492 ]]\n"
     ]
    }
   ],
   "source": [
    "rf = RandomForestClassifier(n_estimators=100)\n",
    "print(rf.fit(X_train, y_train))\n",
    "prediction[\"Random Forest Classifier\"] = rf.predict(X_test)\n",
    "print(accuracy_score(y_test, prediction[\"Random Forest Classifier\"]))\n",
    "print(classification_report(y_test, prediction['Random Forest Classifier']))\n",
    "conf_mat = confusion_matrix(y_test, prediction['Random Forest Classifier'])\n",
    "conf_mat_normalized = conf_mat.astype('float') / conf_mat.sum(axis=1)[:, np.newaxis]\n",
    "print(conf_mat_normalized)"
   ]
  },
  {
   "cell_type": "markdown",
   "metadata": {},
   "source": [
    "### ADA Boost Classifier"
   ]
  },
  {
   "cell_type": "code",
   "execution_count": 17,
   "metadata": {},
   "outputs": [
    {
     "name": "stdout",
     "output_type": "stream",
     "text": [
      "AdaBoostClassifier(algorithm='SAMME.R', base_estimator=None,\n",
      "          learning_rate=1.0, n_estimators=50, random_state=None)\n",
      "0.6736462093862816\n",
      "             precision    recall  f1-score   support\n",
      "\n",
      "          0       0.17      0.00      0.00       900\n",
      "          1       0.67      1.00      0.80      1870\n",
      "\n",
      "avg / total       0.51      0.67      0.54      2770\n",
      "\n",
      "[[0.00111111 0.99888889]\n",
      " [0.0026738  0.9973262 ]]\n"
     ]
    }
   ],
   "source": [
    "model = AdaBoostClassifier()\n",
    "print(model.fit(X_train,y_train))\n",
    "prediction[\"ADA\"] = model.predict(X_test)\n",
    "print(accuracy_score(y_test, prediction[\"ADA\"]))\n",
    "print(classification_report(y_test, prediction['ADA']))\n",
    "conf_mat = confusion_matrix(y_test, prediction['ADA'])\n",
    "conf_mat_normalized = conf_mat.astype('float') / conf_mat.sum(axis=1)[:, np.newaxis]\n",
    "print(conf_mat_normalized)"
   ]
  },
  {
   "cell_type": "markdown",
   "metadata": {},
   "source": [
    "## Predicting Target 2 [Open(i+1) - Open(i)] "
   ]
  },
  {
   "cell_type": "markdown",
   "metadata": {},
   "source": [
    "### Machine Learning Models"
   ]
  },
  {
   "cell_type": "code",
   "execution_count": 18,
   "metadata": {},
   "outputs": [],
   "source": [
    "X = Data\n",
    "X = X.drop('Date', axis = 1)\n",
    "Y = Targets['Target2']\n",
    "prediction = pd.DataFrame()\n",
    "X_train, X_test, y_train, y_test = train_test_split(X, Y, test_size=0.33, random_state = 42,shuffle='Fasle')\n",
    "X_train = preprocessing.normalize(X_train)\n",
    "X_test =  preprocessing.normalize(X_test)"
   ]
  },
  {
   "cell_type": "markdown",
   "metadata": {},
   "source": [
    "### Decision Tree"
   ]
  },
  {
   "cell_type": "code",
   "execution_count": 19,
   "metadata": {},
   "outputs": [
    {
     "name": "stdout",
     "output_type": "stream",
     "text": [
      "Accuracy 0.6830708661417323\n",
      "             precision    recall  f1-score   support\n",
      "\n",
      "          0       0.65      0.71      0.68       725\n",
      "          1       0.72      0.66      0.68       799\n",
      "\n",
      "avg / total       0.69      0.68      0.68      1524\n",
      "\n",
      "[[0.71310345 0.28689655]\n",
      " [0.34418023 0.65581977]]\n"
     ]
    }
   ],
   "source": [
    "from sklearn import tree\n",
    "clf = tree.DecisionTreeClassifier()\n",
    "clf = clf.fit(X_train, y_train)\n",
    "prediction['DT'] = clf.predict(X_test)\n",
    "print(\"Accuracy \"+str(accuracy_score(y_test, prediction[\"DT\"])))\n",
    "print(classification_report(y_test, prediction['DT']))\n",
    "conf_mat = confusion_matrix(y_test, prediction['DT'])\n",
    "conf_mat_normalized = conf_mat.astype('float') / conf_mat.sum(axis=1)[:, np.newaxis]\n",
    "print(conf_mat_normalized)"
   ]
  },
  {
   "cell_type": "markdown",
   "metadata": {},
   "source": [
    "### Logistic Regression"
   ]
  },
  {
   "cell_type": "code",
   "execution_count": 20,
   "metadata": {},
   "outputs": [
    {
     "name": "stdout",
     "output_type": "stream",
     "text": [
      "0.5242782152230971\n",
      "             precision    recall  f1-score   support\n",
      "\n",
      "          0       0.00      0.00      0.00       725\n",
      "          1       0.52      1.00      0.69       799\n",
      "\n",
      "avg / total       0.27      0.52      0.36      1524\n",
      "\n",
      "[[0. 1.]\n",
      " [0. 1.]]\n"
     ]
    },
    {
     "name": "stderr",
     "output_type": "stream",
     "text": [
      "C:\\ProgramData\\Anaconda3\\lib\\site-packages\\sklearn\\metrics\\classification.py:1135: UndefinedMetricWarning: Precision and F-score are ill-defined and being set to 0.0 in labels with no predicted samples.\n",
      "  'precision', 'predicted', average, warn_for)\n"
     ]
    }
   ],
   "source": [
    "model = LogisticRegression()\n",
    "model.fit(X_train,y_train)\n",
    "prediction[\"LR\"] = model.predict(X_test)\n",
    "print(accuracy_score(y_test, prediction[\"LR\"]))\n",
    "print(classification_report(y_test, prediction['LR']))\n",
    "conf_mat = confusion_matrix(y_test, prediction['LR'])\n",
    "conf_mat_normalized = conf_mat.astype('float') / conf_mat.sum(axis=1)[:, np.newaxis]\n",
    "print(conf_mat_normalized)"
   ]
  },
  {
   "cell_type": "code",
   "execution_count": 21,
   "metadata": {},
   "outputs": [
    {
     "name": "stdout",
     "output_type": "stream",
     "text": [
      "0.5242782152230971\n",
      "             precision    recall  f1-score   support\n",
      "\n",
      "          0       0.00      0.00      0.00       725\n",
      "          1       0.52      1.00      0.69       799\n",
      "\n",
      "avg / total       0.27      0.52      0.36      1524\n",
      "\n",
      "[[0. 1.]\n",
      " [0. 1.]]\n"
     ]
    },
    {
     "name": "stderr",
     "output_type": "stream",
     "text": [
      "C:\\ProgramData\\Anaconda3\\lib\\site-packages\\sklearn\\metrics\\classification.py:1135: UndefinedMetricWarning: Precision and F-score are ill-defined and being set to 0.0 in labels with no predicted samples.\n",
      "  'precision', 'predicted', average, warn_for)\n"
     ]
    }
   ],
   "source": [
    "# # Support Vector Machine(SVM)\n",
    "\n",
    "model = svm.SVC()\n",
    "model.fit(X_train, y_train)  \n",
    "\n",
    "prediction[\"SVM\"] = model.predict(X_test)\n",
    "\n",
    "print(accuracy_score(y_test, prediction[\"SVM\"]))\n",
    "\n",
    "print(classification_report(y_test, prediction['SVM']))\n",
    "\n",
    "conf_mat = confusion_matrix(y_test, prediction['SVM'])\n",
    "conf_mat_normalized = conf_mat.astype('float') / conf_mat.sum(axis=1)[:, np.newaxis]\n",
    "print(conf_mat_normalized)"
   ]
  },
  {
   "cell_type": "markdown",
   "metadata": {},
   "source": [
    "### K Nearest Neighbours(KNN)"
   ]
  },
  {
   "cell_type": "code",
   "execution_count": 22,
   "metadata": {},
   "outputs": [
    {
     "name": "stdout",
     "output_type": "stream",
     "text": [
      "KNeighborsClassifier(algorithm='auto', leaf_size=30, metric='minkowski',\n",
      "           metric_params=None, n_jobs=1, n_neighbors=3, p=2,\n",
      "           weights='uniform')\n",
      "Accuracy : 0.6148293963254593\n",
      "             precision    recall  f1-score   support\n",
      "\n",
      "          0       0.59      0.60      0.60       725\n",
      "          1       0.63      0.62      0.63       799\n",
      "\n",
      "avg / total       0.62      0.61      0.61      1524\n",
      "\n",
      "[[0.60413793 0.39586207]\n",
      " [0.37546934 0.62453066]]\n"
     ]
    }
   ],
   "source": [
    "model = KNeighborsClassifier(n_neighbors=3)\n",
    "print(model.fit(X_train,y_train))\n",
    "prediction[\"KNN\"] = model.predict(X_test)\n",
    "print(\"Accuracy : \" + str(accuracy_score(y_test, prediction[\"KNN\"])))\n",
    "print(classification_report(y_test, prediction['KNN']))\n",
    "conf_mat = confusion_matrix(y_test, prediction['KNN'])\n",
    "conf_mat_normalized = conf_mat.astype('float') / conf_mat.sum(axis=1)[:, np.newaxis]\n",
    "print(conf_mat_normalized)"
   ]
  },
  {
   "cell_type": "markdown",
   "metadata": {},
   "source": [
    "### Random Forest Classifier"
   ]
  },
  {
   "cell_type": "code",
   "execution_count": 23,
   "metadata": {},
   "outputs": [
    {
     "name": "stdout",
     "output_type": "stream",
     "text": [
      "RandomForestClassifier(bootstrap=True, class_weight=None, criterion='gini',\n",
      "            max_depth=None, max_features='auto', max_leaf_nodes=None,\n",
      "            min_impurity_decrease=0.0, min_impurity_split=None,\n",
      "            min_samples_leaf=1, min_samples_split=2,\n",
      "            min_weight_fraction_leaf=0.0, n_estimators=100, n_jobs=1,\n",
      "            oob_score=False, random_state=None, verbose=0,\n",
      "            warm_start=False)\n",
      "0.718503937007874\n",
      "             precision    recall  f1-score   support\n",
      "\n",
      "          0       0.69      0.73      0.71       725\n",
      "          1       0.74      0.71      0.72       799\n",
      "\n",
      "avg / total       0.72      0.72      0.72      1524\n",
      "\n",
      "[[0.73241379 0.26758621]\n",
      " [0.29411765 0.70588235]]\n"
     ]
    }
   ],
   "source": [
    "rf = RandomForestClassifier(n_estimators=100)\n",
    "print(rf.fit(X_train, y_train))\n",
    "prediction[\"Random Forest Classifier\"] = rf.predict(X_test)\n",
    "print(accuracy_score(y_test, prediction[\"Random Forest Classifier\"]))\n",
    "print(classification_report(y_test, prediction['Random Forest Classifier']))\n",
    "conf_mat = confusion_matrix(y_test, prediction['Random Forest Classifier'])\n",
    "conf_mat_normalized = conf_mat.astype('float') / conf_mat.sum(axis=1)[:, np.newaxis]\n",
    "print(conf_mat_normalized)"
   ]
  },
  {
   "cell_type": "markdown",
   "metadata": {},
   "source": [
    "### ADA Boost Classifier"
   ]
  },
  {
   "cell_type": "code",
   "execution_count": 24,
   "metadata": {},
   "outputs": [
    {
     "name": "stdout",
     "output_type": "stream",
     "text": [
      "AdaBoostClassifier(algorithm='SAMME.R', base_estimator=None,\n",
      "          learning_rate=1.0, n_estimators=50, random_state=None)\n",
      "0.5223097112860893\n",
      "             precision    recall  f1-score   support\n",
      "\n",
      "          0       0.50      0.36      0.42       725\n",
      "          1       0.54      0.67      0.60       799\n",
      "\n",
      "avg / total       0.52      0.52      0.51      1524\n",
      "\n",
      "[[0.35724138 0.64275862]\n",
      " [0.32790989 0.67209011]]\n"
     ]
    }
   ],
   "source": [
    "model = AdaBoostClassifier()\n",
    "print(model.fit(X_train,y_train))\n",
    "prediction[\"ADA\"] = model.predict(X_test)\n",
    "print(accuracy_score(y_test, prediction[\"ADA\"]))\n",
    "print(classification_report(y_test, prediction['ADA']))\n",
    "conf_mat = confusion_matrix(y_test, prediction['ADA'])\n",
    "conf_mat_normalized = conf_mat.astype('float') / conf_mat.sum(axis=1)[:, np.newaxis]\n",
    "print(conf_mat_normalized)"
   ]
  },
  {
   "cell_type": "code",
   "execution_count": null,
   "metadata": {},
   "outputs": [],
   "source": []
  },
  {
   "cell_type": "code",
   "execution_count": null,
   "metadata": {},
   "outputs": [],
   "source": []
  },
  {
   "cell_type": "code",
   "execution_count": null,
   "metadata": {},
   "outputs": [],
   "source": []
  },
  {
   "cell_type": "code",
   "execution_count": null,
   "metadata": {},
   "outputs": [],
   "source": []
  },
  {
   "cell_type": "code",
   "execution_count": null,
   "metadata": {},
   "outputs": [],
   "source": []
  },
  {
   "cell_type": "code",
   "execution_count": null,
   "metadata": {},
   "outputs": [],
   "source": []
  },
  {
   "cell_type": "code",
   "execution_count": null,
   "metadata": {},
   "outputs": [],
   "source": []
  },
  {
   "cell_type": "code",
   "execution_count": null,
   "metadata": {},
   "outputs": [],
   "source": []
  },
  {
   "cell_type": "code",
   "execution_count": null,
   "metadata": {},
   "outputs": [],
   "source": []
  },
  {
   "cell_type": "code",
   "execution_count": null,
   "metadata": {},
   "outputs": [],
   "source": []
  },
  {
   "cell_type": "code",
   "execution_count": null,
   "metadata": {},
   "outputs": [],
   "source": []
  },
  {
   "cell_type": "code",
   "execution_count": null,
   "metadata": {},
   "outputs": [],
   "source": []
  },
  {
   "cell_type": "code",
   "execution_count": null,
   "metadata": {},
   "outputs": [],
   "source": []
  },
  {
   "cell_type": "code",
   "execution_count": null,
   "metadata": {},
   "outputs": [],
   "source": []
  },
  {
   "cell_type": "code",
   "execution_count": null,
   "metadata": {},
   "outputs": [],
   "source": []
  },
  {
   "cell_type": "code",
   "execution_count": null,
   "metadata": {},
   "outputs": [],
   "source": []
  },
  {
   "cell_type": "code",
   "execution_count": null,
   "metadata": {},
   "outputs": [],
   "source": []
  },
  {
   "cell_type": "code",
   "execution_count": null,
   "metadata": {},
   "outputs": [],
   "source": []
  },
  {
   "cell_type": "code",
   "execution_count": null,
   "metadata": {},
   "outputs": [],
   "source": []
  },
  {
   "cell_type": "code",
   "execution_count": null,
   "metadata": {},
   "outputs": [],
   "source": []
  },
  {
   "cell_type": "code",
   "execution_count": null,
   "metadata": {},
   "outputs": [],
   "source": []
  },
  {
   "cell_type": "code",
   "execution_count": null,
   "metadata": {},
   "outputs": [],
   "source": []
  },
  {
   "cell_type": "code",
   "execution_count": null,
   "metadata": {},
   "outputs": [],
   "source": []
  },
  {
   "cell_type": "code",
   "execution_count": null,
   "metadata": {},
   "outputs": [],
   "source": []
  },
  {
   "cell_type": "code",
   "execution_count": null,
   "metadata": {},
   "outputs": [],
   "source": []
  },
  {
   "cell_type": "code",
   "execution_count": null,
   "metadata": {},
   "outputs": [],
   "source": []
  },
  {
   "cell_type": "code",
   "execution_count": null,
   "metadata": {},
   "outputs": [],
   "source": []
  },
  {
   "cell_type": "code",
   "execution_count": null,
   "metadata": {},
   "outputs": [],
   "source": []
  },
  {
   "cell_type": "code",
   "execution_count": null,
   "metadata": {},
   "outputs": [],
   "source": []
  },
  {
   "cell_type": "code",
   "execution_count": null,
   "metadata": {},
   "outputs": [],
   "source": []
  },
  {
   "cell_type": "code",
   "execution_count": null,
   "metadata": {},
   "outputs": [],
   "source": []
  },
  {
   "cell_type": "code",
   "execution_count": null,
   "metadata": {},
   "outputs": [],
   "source": []
  },
  {
   "cell_type": "code",
   "execution_count": null,
   "metadata": {},
   "outputs": [],
   "source": []
  },
  {
   "cell_type": "code",
   "execution_count": null,
   "metadata": {},
   "outputs": [],
   "source": []
  },
  {
   "cell_type": "code",
   "execution_count": null,
   "metadata": {},
   "outputs": [],
   "source": []
  },
  {
   "cell_type": "code",
   "execution_count": null,
   "metadata": {},
   "outputs": [],
   "source": []
  },
  {
   "cell_type": "code",
   "execution_count": null,
   "metadata": {},
   "outputs": [],
   "source": []
  },
  {
   "cell_type": "code",
   "execution_count": null,
   "metadata": {},
   "outputs": [],
   "source": []
  },
  {
   "cell_type": "code",
   "execution_count": null,
   "metadata": {},
   "outputs": [],
   "source": []
  },
  {
   "cell_type": "code",
   "execution_count": null,
   "metadata": {},
   "outputs": [],
   "source": []
  },
  {
   "cell_type": "code",
   "execution_count": null,
   "metadata": {},
   "outputs": [],
   "source": []
  }
 ],
 "metadata": {
  "kernelspec": {
   "display_name": "Python 3",
   "language": "python",
   "name": "python3"
  },
  "language_info": {
   "codemirror_mode": {
    "name": "ipython",
    "version": 3
   },
   "file_extension": ".py",
   "mimetype": "text/x-python",
   "name": "python",
   "nbconvert_exporter": "python",
   "pygments_lexer": "ipython3",
   "version": "3.6.4"
  }
 },
 "nbformat": 4,
 "nbformat_minor": 2
}
